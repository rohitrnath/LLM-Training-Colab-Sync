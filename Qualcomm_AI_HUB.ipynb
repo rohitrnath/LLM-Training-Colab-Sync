{
  "nbformat": 4,
  "nbformat_minor": 0,
  "metadata": {
    "colab": {
      "provenance": [],
      "authorship_tag": "ABX9TyNjuD+5iYKktVv7SOQQqOLI",
      "include_colab_link": true
    },
    "kernelspec": {
      "name": "python3",
      "display_name": "Python 3"
    },
    "language_info": {
      "name": "python"
    },
    "widgets": {
      "application/vnd.jupyter.widget-state+json": {
        "d1e2848847fc4c349833044e4ffebf49": {
          "model_module": "@jupyter-widgets/controls",
          "model_name": "HBoxModel",
          "model_module_version": "1.5.0",
          "state": {
            "_dom_classes": [],
            "_model_module": "@jupyter-widgets/controls",
            "_model_module_version": "1.5.0",
            "_model_name": "HBoxModel",
            "_view_count": null,
            "_view_module": "@jupyter-widgets/controls",
            "_view_module_version": "1.5.0",
            "_view_name": "HBoxView",
            "box_style": "",
            "children": [
              "IPY_MODEL_56bc0ba91fe14a01bea3381aa1c1bbb8",
              "IPY_MODEL_ff2f76c2b35343ddb58c2f613fab9f6e",
              "IPY_MODEL_807b069484fa45cd89f6256c68a049d1"
            ],
            "layout": "IPY_MODEL_d46796cb016e46a588112bd832267156"
          }
        },
        "56bc0ba91fe14a01bea3381aa1c1bbb8": {
          "model_module": "@jupyter-widgets/controls",
          "model_name": "HTMLModel",
          "model_module_version": "1.5.0",
          "state": {
            "_dom_classes": [],
            "_model_module": "@jupyter-widgets/controls",
            "_model_module_version": "1.5.0",
            "_model_name": "HTMLModel",
            "_view_count": null,
            "_view_module": "@jupyter-widgets/controls",
            "_view_module_version": "1.5.0",
            "_view_name": "HTMLView",
            "description": "",
            "description_tooltip": null,
            "layout": "IPY_MODEL_4087806f84f64b79a6737a3fa7ac05dc",
            "placeholder": "​",
            "style": "IPY_MODEL_53a70ea90d944532ab8f80e47041ee05",
            "value": "100%"
          }
        },
        "ff2f76c2b35343ddb58c2f613fab9f6e": {
          "model_module": "@jupyter-widgets/controls",
          "model_name": "FloatProgressModel",
          "model_module_version": "1.5.0",
          "state": {
            "_dom_classes": [],
            "_model_module": "@jupyter-widgets/controls",
            "_model_module_version": "1.5.0",
            "_model_name": "FloatProgressModel",
            "_view_count": null,
            "_view_module": "@jupyter-widgets/controls",
            "_view_module_version": "1.5.0",
            "_view_name": "ProgressView",
            "bar_style": "success",
            "description": "",
            "description_tooltip": null,
            "layout": "IPY_MODEL_5964f7a6302a405596e9987caf85292a",
            "max": 23832055,
            "min": 0,
            "orientation": "horizontal",
            "style": "IPY_MODEL_d1cf87e6de7243dcb4b3f37879420e3e",
            "value": 23832055
          }
        },
        "807b069484fa45cd89f6256c68a049d1": {
          "model_module": "@jupyter-widgets/controls",
          "model_name": "HTMLModel",
          "model_module_version": "1.5.0",
          "state": {
            "_dom_classes": [],
            "_model_module": "@jupyter-widgets/controls",
            "_model_module_version": "1.5.0",
            "_model_name": "HTMLModel",
            "_view_count": null,
            "_view_module": "@jupyter-widgets/controls",
            "_view_module_version": "1.5.0",
            "_view_name": "HTMLView",
            "description": "",
            "description_tooltip": null,
            "layout": "IPY_MODEL_0a6dd5ac302d4b41bfd39d0fde06d3f6",
            "placeholder": "​",
            "style": "IPY_MODEL_13caefc682cb45f298dd63e15369d44b",
            "value": " 22.7M/22.7M [00:00&lt;00:00, 114MB/s]"
          }
        },
        "d46796cb016e46a588112bd832267156": {
          "model_module": "@jupyter-widgets/base",
          "model_name": "LayoutModel",
          "model_module_version": "1.2.0",
          "state": {
            "_model_module": "@jupyter-widgets/base",
            "_model_module_version": "1.2.0",
            "_model_name": "LayoutModel",
            "_view_count": null,
            "_view_module": "@jupyter-widgets/base",
            "_view_module_version": "1.2.0",
            "_view_name": "LayoutView",
            "align_content": null,
            "align_items": null,
            "align_self": null,
            "border": null,
            "bottom": null,
            "display": null,
            "flex": null,
            "flex_flow": null,
            "grid_area": null,
            "grid_auto_columns": null,
            "grid_auto_flow": null,
            "grid_auto_rows": null,
            "grid_column": null,
            "grid_gap": null,
            "grid_row": null,
            "grid_template_areas": null,
            "grid_template_columns": null,
            "grid_template_rows": null,
            "height": null,
            "justify_content": null,
            "justify_items": null,
            "left": null,
            "margin": null,
            "max_height": null,
            "max_width": null,
            "min_height": null,
            "min_width": null,
            "object_fit": null,
            "object_position": null,
            "order": null,
            "overflow": null,
            "overflow_x": null,
            "overflow_y": null,
            "padding": null,
            "right": null,
            "top": null,
            "visibility": null,
            "width": null
          }
        },
        "4087806f84f64b79a6737a3fa7ac05dc": {
          "model_module": "@jupyter-widgets/base",
          "model_name": "LayoutModel",
          "model_module_version": "1.2.0",
          "state": {
            "_model_module": "@jupyter-widgets/base",
            "_model_module_version": "1.2.0",
            "_model_name": "LayoutModel",
            "_view_count": null,
            "_view_module": "@jupyter-widgets/base",
            "_view_module_version": "1.2.0",
            "_view_name": "LayoutView",
            "align_content": null,
            "align_items": null,
            "align_self": null,
            "border": null,
            "bottom": null,
            "display": null,
            "flex": null,
            "flex_flow": null,
            "grid_area": null,
            "grid_auto_columns": null,
            "grid_auto_flow": null,
            "grid_auto_rows": null,
            "grid_column": null,
            "grid_gap": null,
            "grid_row": null,
            "grid_template_areas": null,
            "grid_template_columns": null,
            "grid_template_rows": null,
            "height": null,
            "justify_content": null,
            "justify_items": null,
            "left": null,
            "margin": null,
            "max_height": null,
            "max_width": null,
            "min_height": null,
            "min_width": null,
            "object_fit": null,
            "object_position": null,
            "order": null,
            "overflow": null,
            "overflow_x": null,
            "overflow_y": null,
            "padding": null,
            "right": null,
            "top": null,
            "visibility": null,
            "width": null
          }
        },
        "53a70ea90d944532ab8f80e47041ee05": {
          "model_module": "@jupyter-widgets/controls",
          "model_name": "DescriptionStyleModel",
          "model_module_version": "1.5.0",
          "state": {
            "_model_module": "@jupyter-widgets/controls",
            "_model_module_version": "1.5.0",
            "_model_name": "DescriptionStyleModel",
            "_view_count": null,
            "_view_module": "@jupyter-widgets/base",
            "_view_module_version": "1.2.0",
            "_view_name": "StyleView",
            "description_width": ""
          }
        },
        "5964f7a6302a405596e9987caf85292a": {
          "model_module": "@jupyter-widgets/base",
          "model_name": "LayoutModel",
          "model_module_version": "1.2.0",
          "state": {
            "_model_module": "@jupyter-widgets/base",
            "_model_module_version": "1.2.0",
            "_model_name": "LayoutModel",
            "_view_count": null,
            "_view_module": "@jupyter-widgets/base",
            "_view_module_version": "1.2.0",
            "_view_name": "LayoutView",
            "align_content": null,
            "align_items": null,
            "align_self": null,
            "border": null,
            "bottom": null,
            "display": null,
            "flex": null,
            "flex_flow": null,
            "grid_area": null,
            "grid_auto_columns": null,
            "grid_auto_flow": null,
            "grid_auto_rows": null,
            "grid_column": null,
            "grid_gap": null,
            "grid_row": null,
            "grid_template_areas": null,
            "grid_template_columns": null,
            "grid_template_rows": null,
            "height": null,
            "justify_content": null,
            "justify_items": null,
            "left": null,
            "margin": null,
            "max_height": null,
            "max_width": null,
            "min_height": null,
            "min_width": null,
            "object_fit": null,
            "object_position": null,
            "order": null,
            "overflow": null,
            "overflow_x": null,
            "overflow_y": null,
            "padding": null,
            "right": null,
            "top": null,
            "visibility": null,
            "width": null
          }
        },
        "d1cf87e6de7243dcb4b3f37879420e3e": {
          "model_module": "@jupyter-widgets/controls",
          "model_name": "ProgressStyleModel",
          "model_module_version": "1.5.0",
          "state": {
            "_model_module": "@jupyter-widgets/controls",
            "_model_module_version": "1.5.0",
            "_model_name": "ProgressStyleModel",
            "_view_count": null,
            "_view_module": "@jupyter-widgets/base",
            "_view_module_version": "1.2.0",
            "_view_name": "StyleView",
            "bar_color": null,
            "description_width": ""
          }
        },
        "0a6dd5ac302d4b41bfd39d0fde06d3f6": {
          "model_module": "@jupyter-widgets/base",
          "model_name": "LayoutModel",
          "model_module_version": "1.2.0",
          "state": {
            "_model_module": "@jupyter-widgets/base",
            "_model_module_version": "1.2.0",
            "_model_name": "LayoutModel",
            "_view_count": null,
            "_view_module": "@jupyter-widgets/base",
            "_view_module_version": "1.2.0",
            "_view_name": "LayoutView",
            "align_content": null,
            "align_items": null,
            "align_self": null,
            "border": null,
            "bottom": null,
            "display": null,
            "flex": null,
            "flex_flow": null,
            "grid_area": null,
            "grid_auto_columns": null,
            "grid_auto_flow": null,
            "grid_auto_rows": null,
            "grid_column": null,
            "grid_gap": null,
            "grid_row": null,
            "grid_template_areas": null,
            "grid_template_columns": null,
            "grid_template_rows": null,
            "height": null,
            "justify_content": null,
            "justify_items": null,
            "left": null,
            "margin": null,
            "max_height": null,
            "max_width": null,
            "min_height": null,
            "min_width": null,
            "object_fit": null,
            "object_position": null,
            "order": null,
            "overflow": null,
            "overflow_x": null,
            "overflow_y": null,
            "padding": null,
            "right": null,
            "top": null,
            "visibility": null,
            "width": null
          }
        },
        "13caefc682cb45f298dd63e15369d44b": {
          "model_module": "@jupyter-widgets/controls",
          "model_name": "DescriptionStyleModel",
          "model_module_version": "1.5.0",
          "state": {
            "_model_module": "@jupyter-widgets/controls",
            "_model_module_version": "1.5.0",
            "_model_name": "DescriptionStyleModel",
            "_view_count": null,
            "_view_module": "@jupyter-widgets/base",
            "_view_module_version": "1.2.0",
            "_view_name": "StyleView",
            "description_width": ""
          }
        },
        "26c2dbea91994d0baed0fe09eb272c3f": {
          "model_module": "@jupyter-widgets/controls",
          "model_name": "HBoxModel",
          "model_module_version": "1.5.0",
          "state": {
            "_dom_classes": [],
            "_model_module": "@jupyter-widgets/controls",
            "_model_module_version": "1.5.0",
            "_model_name": "HBoxModel",
            "_view_count": null,
            "_view_module": "@jupyter-widgets/controls",
            "_view_module_version": "1.5.0",
            "_view_name": "HBoxView",
            "box_style": "",
            "children": [
              "IPY_MODEL_7036cab7cc2a4134a3f68e095d1e7dc3",
              "IPY_MODEL_ee37763bf22244aaaa8dacd57f117fdf",
              "IPY_MODEL_264a14ee43d84847910dad43e8fdc91b"
            ],
            "layout": "IPY_MODEL_57a45627434c4e93857e16b909909db9"
          }
        },
        "7036cab7cc2a4134a3f68e095d1e7dc3": {
          "model_module": "@jupyter-widgets/controls",
          "model_name": "HTMLModel",
          "model_module_version": "1.5.0",
          "state": {
            "_dom_classes": [],
            "_model_module": "@jupyter-widgets/controls",
            "_model_module_version": "1.5.0",
            "_model_name": "HTMLModel",
            "_view_count": null,
            "_view_module": "@jupyter-widgets/controls",
            "_view_module_version": "1.5.0",
            "_view_name": "HTMLView",
            "description": "",
            "description_tooltip": null,
            "layout": "IPY_MODEL_5924a220b2ff45f993454dc9faa524c3",
            "placeholder": "​",
            "style": "IPY_MODEL_10567f9d753e4ceabea445fbdf03b079",
            "value": "Loading checkpoint shards:   0%"
          }
        },
        "ee37763bf22244aaaa8dacd57f117fdf": {
          "model_module": "@jupyter-widgets/controls",
          "model_name": "FloatProgressModel",
          "model_module_version": "1.5.0",
          "state": {
            "_dom_classes": [],
            "_model_module": "@jupyter-widgets/controls",
            "_model_module_version": "1.5.0",
            "_model_name": "FloatProgressModel",
            "_view_count": null,
            "_view_module": "@jupyter-widgets/controls",
            "_view_module_version": "1.5.0",
            "_view_name": "ProgressView",
            "bar_style": "",
            "description": "",
            "description_tooltip": null,
            "layout": "IPY_MODEL_917eb2219eec4c2cbae5e04dd51cde23",
            "max": 2,
            "min": 0,
            "orientation": "horizontal",
            "style": "IPY_MODEL_d0d17351eb57401d850fcc949a7c5935",
            "value": 0
          }
        },
        "264a14ee43d84847910dad43e8fdc91b": {
          "model_module": "@jupyter-widgets/controls",
          "model_name": "HTMLModel",
          "model_module_version": "1.5.0",
          "state": {
            "_dom_classes": [],
            "_model_module": "@jupyter-widgets/controls",
            "_model_module_version": "1.5.0",
            "_model_name": "HTMLModel",
            "_view_count": null,
            "_view_module": "@jupyter-widgets/controls",
            "_view_module_version": "1.5.0",
            "_view_name": "HTMLView",
            "description": "",
            "description_tooltip": null,
            "layout": "IPY_MODEL_2019c5f1f44842b9a7c68060a897329c",
            "placeholder": "​",
            "style": "IPY_MODEL_3857171d00de49d193a18f1b82ff7ee3",
            "value": " 0/2 [00:00&lt;?, ?it/s]"
          }
        },
        "57a45627434c4e93857e16b909909db9": {
          "model_module": "@jupyter-widgets/base",
          "model_name": "LayoutModel",
          "model_module_version": "1.2.0",
          "state": {
            "_model_module": "@jupyter-widgets/base",
            "_model_module_version": "1.2.0",
            "_model_name": "LayoutModel",
            "_view_count": null,
            "_view_module": "@jupyter-widgets/base",
            "_view_module_version": "1.2.0",
            "_view_name": "LayoutView",
            "align_content": null,
            "align_items": null,
            "align_self": null,
            "border": null,
            "bottom": null,
            "display": null,
            "flex": null,
            "flex_flow": null,
            "grid_area": null,
            "grid_auto_columns": null,
            "grid_auto_flow": null,
            "grid_auto_rows": null,
            "grid_column": null,
            "grid_gap": null,
            "grid_row": null,
            "grid_template_areas": null,
            "grid_template_columns": null,
            "grid_template_rows": null,
            "height": null,
            "justify_content": null,
            "justify_items": null,
            "left": null,
            "margin": null,
            "max_height": null,
            "max_width": null,
            "min_height": null,
            "min_width": null,
            "object_fit": null,
            "object_position": null,
            "order": null,
            "overflow": null,
            "overflow_x": null,
            "overflow_y": null,
            "padding": null,
            "right": null,
            "top": null,
            "visibility": null,
            "width": null
          }
        },
        "5924a220b2ff45f993454dc9faa524c3": {
          "model_module": "@jupyter-widgets/base",
          "model_name": "LayoutModel",
          "model_module_version": "1.2.0",
          "state": {
            "_model_module": "@jupyter-widgets/base",
            "_model_module_version": "1.2.0",
            "_model_name": "LayoutModel",
            "_view_count": null,
            "_view_module": "@jupyter-widgets/base",
            "_view_module_version": "1.2.0",
            "_view_name": "LayoutView",
            "align_content": null,
            "align_items": null,
            "align_self": null,
            "border": null,
            "bottom": null,
            "display": null,
            "flex": null,
            "flex_flow": null,
            "grid_area": null,
            "grid_auto_columns": null,
            "grid_auto_flow": null,
            "grid_auto_rows": null,
            "grid_column": null,
            "grid_gap": null,
            "grid_row": null,
            "grid_template_areas": null,
            "grid_template_columns": null,
            "grid_template_rows": null,
            "height": null,
            "justify_content": null,
            "justify_items": null,
            "left": null,
            "margin": null,
            "max_height": null,
            "max_width": null,
            "min_height": null,
            "min_width": null,
            "object_fit": null,
            "object_position": null,
            "order": null,
            "overflow": null,
            "overflow_x": null,
            "overflow_y": null,
            "padding": null,
            "right": null,
            "top": null,
            "visibility": null,
            "width": null
          }
        },
        "10567f9d753e4ceabea445fbdf03b079": {
          "model_module": "@jupyter-widgets/controls",
          "model_name": "DescriptionStyleModel",
          "model_module_version": "1.5.0",
          "state": {
            "_model_module": "@jupyter-widgets/controls",
            "_model_module_version": "1.5.0",
            "_model_name": "DescriptionStyleModel",
            "_view_count": null,
            "_view_module": "@jupyter-widgets/base",
            "_view_module_version": "1.2.0",
            "_view_name": "StyleView",
            "description_width": ""
          }
        },
        "917eb2219eec4c2cbae5e04dd51cde23": {
          "model_module": "@jupyter-widgets/base",
          "model_name": "LayoutModel",
          "model_module_version": "1.2.0",
          "state": {
            "_model_module": "@jupyter-widgets/base",
            "_model_module_version": "1.2.0",
            "_model_name": "LayoutModel",
            "_view_count": null,
            "_view_module": "@jupyter-widgets/base",
            "_view_module_version": "1.2.0",
            "_view_name": "LayoutView",
            "align_content": null,
            "align_items": null,
            "align_self": null,
            "border": null,
            "bottom": null,
            "display": null,
            "flex": null,
            "flex_flow": null,
            "grid_area": null,
            "grid_auto_columns": null,
            "grid_auto_flow": null,
            "grid_auto_rows": null,
            "grid_column": null,
            "grid_gap": null,
            "grid_row": null,
            "grid_template_areas": null,
            "grid_template_columns": null,
            "grid_template_rows": null,
            "height": null,
            "justify_content": null,
            "justify_items": null,
            "left": null,
            "margin": null,
            "max_height": null,
            "max_width": null,
            "min_height": null,
            "min_width": null,
            "object_fit": null,
            "object_position": null,
            "order": null,
            "overflow": null,
            "overflow_x": null,
            "overflow_y": null,
            "padding": null,
            "right": null,
            "top": null,
            "visibility": null,
            "width": null
          }
        },
        "d0d17351eb57401d850fcc949a7c5935": {
          "model_module": "@jupyter-widgets/controls",
          "model_name": "ProgressStyleModel",
          "model_module_version": "1.5.0",
          "state": {
            "_model_module": "@jupyter-widgets/controls",
            "_model_module_version": "1.5.0",
            "_model_name": "ProgressStyleModel",
            "_view_count": null,
            "_view_module": "@jupyter-widgets/base",
            "_view_module_version": "1.2.0",
            "_view_name": "StyleView",
            "bar_color": null,
            "description_width": ""
          }
        },
        "2019c5f1f44842b9a7c68060a897329c": {
          "model_module": "@jupyter-widgets/base",
          "model_name": "LayoutModel",
          "model_module_version": "1.2.0",
          "state": {
            "_model_module": "@jupyter-widgets/base",
            "_model_module_version": "1.2.0",
            "_model_name": "LayoutModel",
            "_view_count": null,
            "_view_module": "@jupyter-widgets/base",
            "_view_module_version": "1.2.0",
            "_view_name": "LayoutView",
            "align_content": null,
            "align_items": null,
            "align_self": null,
            "border": null,
            "bottom": null,
            "display": null,
            "flex": null,
            "flex_flow": null,
            "grid_area": null,
            "grid_auto_columns": null,
            "grid_auto_flow": null,
            "grid_auto_rows": null,
            "grid_column": null,
            "grid_gap": null,
            "grid_row": null,
            "grid_template_areas": null,
            "grid_template_columns": null,
            "grid_template_rows": null,
            "height": null,
            "justify_content": null,
            "justify_items": null,
            "left": null,
            "margin": null,
            "max_height": null,
            "max_width": null,
            "min_height": null,
            "min_width": null,
            "object_fit": null,
            "object_position": null,
            "order": null,
            "overflow": null,
            "overflow_x": null,
            "overflow_y": null,
            "padding": null,
            "right": null,
            "top": null,
            "visibility": null,
            "width": null
          }
        },
        "3857171d00de49d193a18f1b82ff7ee3": {
          "model_module": "@jupyter-widgets/controls",
          "model_name": "DescriptionStyleModel",
          "model_module_version": "1.5.0",
          "state": {
            "_model_module": "@jupyter-widgets/controls",
            "_model_module_version": "1.5.0",
            "_model_name": "DescriptionStyleModel",
            "_view_count": null,
            "_view_module": "@jupyter-widgets/base",
            "_view_module_version": "1.2.0",
            "_view_name": "StyleView",
            "description_width": ""
          }
        }
      }
    }
  },
  "cells": [
    {
      "cell_type": "markdown",
      "metadata": {
        "id": "view-in-github",
        "colab_type": "text"
      },
      "source": [
        "<a href=\"https://colab.research.google.com/github/rohitrnath/LLM-Training-Colab-Sync/blob/main/Qualcomm_AI_HUB.ipynb\" target=\"_parent\"><img src=\"https://colab.research.google.com/assets/colab-badge.svg\" alt=\"Open In Colab\"/></a>"
      ]
    },
    {
      "cell_type": "code",
      "execution_count": 1,
      "metadata": {
        "colab": {
          "base_uri": "https://localhost:8080/"
        },
        "id": "m6eGQNH9qTtp",
        "outputId": "c68420e1-b3fb-485d-c0f7-7ecdaccd789d"
      },
      "outputs": [
        {
          "output_type": "stream",
          "name": "stdout",
          "text": [
            "Requirement already satisfied: qai-hub in /usr/local/lib/python3.10/dist-packages (0.12.0)\n",
            "Requirement already satisfied: deprecation in /usr/local/lib/python3.10/dist-packages (from qai-hub) (2.1.0)\n",
            "Requirement already satisfied: h5py<4,>=2.10.0 in /usr/local/lib/python3.10/dist-packages (from qai-hub) (3.9.0)\n",
            "Requirement already satisfied: numpy<2,>=1.22.0 in /usr/local/lib/python3.10/dist-packages (from qai-hub) (1.23.1)\n",
            "Requirement already satisfied: packaging>=20.0 in /usr/local/lib/python3.10/dist-packages (from qai-hub) (23.2)\n",
            "Requirement already satisfied: prettytable>=3.9.0 in /usr/local/lib/python3.10/dist-packages (from qai-hub) (3.9.0)\n",
            "Requirement already satisfied: protobuf<4,>=3.20 in /usr/local/lib/python3.10/dist-packages (from qai-hub) (3.20.2)\n",
            "Requirement already satisfied: requests in /usr/local/lib/python3.10/dist-packages (from qai-hub) (2.31.0)\n",
            "Requirement already satisfied: requests-toolbelt in /usr/local/lib/python3.10/dist-packages (from qai-hub) (1.0.0)\n",
            "Requirement already satisfied: tqdm in /usr/local/lib/python3.10/dist-packages (from qai-hub) (4.66.2)\n",
            "Requirement already satisfied: wcwidth in /usr/local/lib/python3.10/dist-packages (from prettytable>=3.9.0->qai-hub) (0.2.13)\n",
            "Requirement already satisfied: charset-normalizer<4,>=2 in /usr/local/lib/python3.10/dist-packages (from requests->qai-hub) (3.3.2)\n",
            "Requirement already satisfied: idna<4,>=2.5 in /usr/local/lib/python3.10/dist-packages (from requests->qai-hub) (3.7)\n",
            "Requirement already satisfied: urllib3<3,>=1.21.1 in /usr/local/lib/python3.10/dist-packages (from requests->qai-hub) (1.26.18)\n",
            "Requirement already satisfied: certifi>=2017.4.17 in /usr/local/lib/python3.10/dist-packages (from requests->qai-hub) (2024.6.2)\n",
            "/usr/local/lib/python3.10/dist-packages/qai_hub/_cli.py:272: UserWarning: Overwriting configuration: /root/.qai_hub/client.ini (previous configuration saved to /root/.qai_hub/client.ini.bak)\n",
            "  warnings.warn(\n",
            "qai-hub configuration saved to /root/.qai_hub/client.ini\n",
            "==================== /root/.qai_hub/client.ini ====================\n",
            "[api]\n",
            "api_token = 8ae918dfb98d073453cbc678ccf3becaabdb1d63\n",
            "api_url = https://app.aihub.qualcomm.com\n",
            "web_url = https://app.aihub.qualcomm.com\n",
            "verbose = True\n",
            "\n",
            "\n"
          ]
        }
      ],
      "source": [
        "!pip install qai-hub\n",
        "!qai-hub configure --api_token QC_HUB_API_TOKEN"
      ]
    },
    {
      "cell_type": "code",
      "source": [
        "import qai_hub as hub\n",
        "\n",
        "# Compile a model to TensorFlow Lite\n",
        "compile_job = hub.submit_compile_job(\n",
        "    model=\"ylt_pln.onnx\",\n",
        "    device=hub.Device(\"Samsung Galaxy S23 Ultra\"),\n",
        ")\n",
        "assert isinstance(compile_job, hub.CompileJob)\n",
        "\n"
      ],
      "metadata": {
        "colab": {
          "base_uri": "https://localhost:8080/"
        },
        "id": "UtKZtoxFaPwt",
        "outputId": "e568bf17-a13b-4e79-c59c-c127e1941e17"
      },
      "execution_count": null,
      "outputs": [
        {
          "output_type": "stream",
          "name": "stderr",
          "text": [
            "Uploading model: 100%|\u001b[34m██████████\u001b[0m| 31.3M/31.3M [00:01<00:00, 29.2MB/s]\n"
          ]
        },
        {
          "output_type": "stream",
          "name": "stdout",
          "text": [
            "Scheduled compile job (jqp4l93v5) successfully. To see the status and results:\n",
            "    https://app.aihub.qualcomm.com/jobs/jqp4l93v5/\n",
            "\n"
          ]
        }
      ]
    },
    {
      "cell_type": "code",
      "source": [
        "print(compile_job)"
      ],
      "metadata": {
        "colab": {
          "base_uri": "https://localhost:8080/"
        },
        "id": "frBws_JWC8x6",
        "outputId": "c58a0ddb-f698-4dba-c2dd-bf02703f66b4"
      },
      "execution_count": null,
      "outputs": [
        {
          "output_type": "stream",
          "name": "stdout",
          "text": [
            "Job(job_id=jqp4l93v5, model_id=mjqy35o9m, device=Device(name='Samsung Galaxy S23 Ultra', os='13', attributes=['os:android', 'framework:tflite', 'framework:onnx', 'vendor:samsung', 'format:phone', 'framework:qnn', 'chipset:qualcomm-snapdragon-8gen2', 'chipset:sm8550']))\n"
          ]
        }
      ]
    },
    {
      "cell_type": "code",
      "source": [
        "print(compile_job2)"
      ],
      "metadata": {
        "colab": {
          "base_uri": "https://localhost:8080/"
        },
        "id": "58kWHKzSDKXp",
        "outputId": "d76cd31f-e7f7-4e60-ec31-1db2af173937"
      },
      "execution_count": null,
      "outputs": [
        {
          "output_type": "stream",
          "name": "stdout",
          "text": [
            "Job(job_id=jo5mnd8wp, model_id=mwn0xg19n, device=Device(name='Samsung Galaxy S23', os='13', attributes=['os:android', 'framework:tflite', 'framework:onnx', 'vendor:samsung', 'format:phone', 'framework:qnn', 'chipset:qualcomm-snapdragon-8gen2', 'chipset:sm8550']))\n"
          ]
        }
      ]
    },
    {
      "cell_type": "code",
      "source": [
        "# Compile a model to a QNN Model Library\n",
        "compile_job2 = hub.submit_compile_job(\n",
        "    model=\"ylt_pln.onnx\",\n",
        "    device=hub.Device(\"Samsung Galaxy S23\"),\n",
        "    options=\"--target_runtime qnn_lib_aarch64_android\",\n",
        ")\n",
        "assert isinstance(compile_job, hub.CompileJob)"
      ],
      "metadata": {
        "colab": {
          "base_uri": "https://localhost:8080/"
        },
        "id": "ORLqU1cCC5-4",
        "outputId": "7ea2916e-a176-4422-fa22-45e84b5a5383"
      },
      "execution_count": null,
      "outputs": [
        {
          "output_type": "stream",
          "name": "stderr",
          "text": [
            "Uploading model: 100%|\u001b[34m██████████\u001b[0m| 31.3M/31.3M [00:01<00:00, 25.8MB/s]\n"
          ]
        },
        {
          "output_type": "stream",
          "name": "stdout",
          "text": [
            "Scheduled compile job (jo5mnd8wp) successfully. To see the status and results:\n",
            "    https://app.aihub.qualcomm.com/jobs/jo5mnd8wp/\n",
            "\n"
          ]
        }
      ]
    },
    {
      "cell_type": "code",
      "source": [
        "model0 = compile_job.get_target_model()\n",
        "print(model0)"
      ],
      "metadata": {
        "colab": {
          "base_uri": "https://localhost:8080/"
        },
        "id": "38adF4AlDj71",
        "outputId": "61b88633-2c7e-4038-8583-c0a3874af559"
      },
      "execution_count": null,
      "outputs": [
        {
          "output_type": "stream",
          "name": "stdout",
          "text": [
            "Model(model_id='m9m5dvy9n', name='job_jqp4l93v5_optimized_tflite')\n"
          ]
        }
      ]
    },
    {
      "cell_type": "code",
      "source": [
        "model = compile_job2.get_target_model()"
      ],
      "metadata": {
        "id": "Vtbp6WwxDJRT"
      },
      "execution_count": null,
      "outputs": []
    },
    {
      "cell_type": "code",
      "source": [
        "print(model)"
      ],
      "metadata": {
        "colab": {
          "base_uri": "https://localhost:8080/"
        },
        "id": "r77pIhrUDe2W",
        "outputId": "7699c8b3-0d90-4adb-e800-06718bc81fad"
      },
      "execution_count": null,
      "outputs": [
        {
          "output_type": "stream",
          "name": "stdout",
          "text": [
            "Model(model_id='mjqy35oxm', name='job_jo5mnd8wp_optimized_so')\n"
          ]
        }
      ]
    },
    {
      "cell_type": "code",
      "source": [
        "os.makedirs(output_path, exist_ok=True)\n",
        "for component_name, compile_job in compile_jobs.items():\n",
        "    target_model: hub.Model = compile_job.get_target_model()  # type: ignore\n",
        "    target_model.download(\n",
        "        str(output_path / f\"{model_name}_{component_name}.tflite\")\n",
        "    )"
      ],
      "metadata": {
        "id": "7Vr4rJYGBjro"
      },
      "execution_count": null,
      "outputs": []
    },
    {
      "cell_type": "code",
      "source": [
        "pip install \"qai_hub_models[openai_clip]\""
      ],
      "metadata": {
        "colab": {
          "base_uri": "https://localhost:8080/",
          "height": 1000
        },
        "id": "GZA4-HPwxXIe",
        "outputId": "b10a60c7-4477-46dd-b145-843e3ee73757"
      },
      "execution_count": null,
      "outputs": [
        {
          "output_type": "stream",
          "name": "stdout",
          "text": [
            "Collecting qai_hub_models[openai_clip]\n",
            "  Downloading qai_hub_models-0.4.0-py3-none-any.whl (967 kB)\n",
            "\u001b[2K     \u001b[90m━━━━━━━━━━━━━━━━━━━━━━━━━━━━━━━━━━━━━━━━\u001b[0m \u001b[32m967.8/967.8 kB\u001b[0m \u001b[31m4.4 MB/s\u001b[0m eta \u001b[36m0:00:00\u001b[0m\n",
            "\u001b[?25hCollecting Pillow==10.0.1 (from qai_hub_models[openai_clip])\n",
            "  Downloading Pillow-10.0.1-cp310-cp310-manylinux_2_28_x86_64.whl (3.6 MB)\n",
            "\u001b[2K     \u001b[90m━━━━━━━━━━━━━━━━━━━━━━━━━━━━━━━━━━━━━━━━\u001b[0m \u001b[32m3.6/3.6 MB\u001b[0m \u001b[31m32.6 MB/s\u001b[0m eta \u001b[36m0:00:00\u001b[0m\n",
            "\u001b[?25hRequirement already satisfied: deprecation==2.1.0 in /usr/local/lib/python3.10/dist-packages (from qai_hub_models[openai_clip]) (2.1.0)\n",
            "Requirement already satisfied: fsspec==2023.6.0 in /usr/local/lib/python3.10/dist-packages (from qai_hub_models[openai_clip]) (2023.6.0)\n",
            "Collecting gdown==4.7.1 (from qai_hub_models[openai_clip])\n",
            "  Downloading gdown-4.7.1-py3-none-any.whl (15 kB)\n",
            "Collecting gitpython==3.1.42 (from qai_hub_models[openai_clip])\n",
            "  Downloading GitPython-3.1.42-py3-none-any.whl (195 kB)\n",
            "\u001b[2K     \u001b[90m━━━━━━━━━━━━━━━━━━━━━━━━━━━━━━━━━━━━━━━━\u001b[0m \u001b[32m195.4/195.4 kB\u001b[0m \u001b[31m14.6 MB/s\u001b[0m eta \u001b[36m0:00:00\u001b[0m\n",
            "\u001b[?25hRequirement already satisfied: huggingface-hub==0.20.3 in /usr/local/lib/python3.10/dist-packages (from qai_hub_models[openai_clip]) (0.20.3)\n",
            "Collecting ipython==8.12.3 (from qai_hub_models[openai_clip])\n",
            "  Downloading ipython-8.12.3-py3-none-any.whl (798 kB)\n",
            "\u001b[2K     \u001b[90m━━━━━━━━━━━━━━━━━━━━━━━━━━━━━━━━━━━━━━━━\u001b[0m \u001b[32m798.3/798.3 kB\u001b[0m \u001b[31m36.7 MB/s\u001b[0m eta \u001b[36m0:00:00\u001b[0m\n",
            "\u001b[?25hCollecting numpy==1.23.1 (from qai_hub_models[openai_clip])\n",
            "  Downloading numpy-1.23.1-cp310-cp310-manylinux_2_17_x86_64.manylinux2014_x86_64.whl (17.0 MB)\n",
            "\u001b[2K     \u001b[90m━━━━━━━━━━━━━━━━━━━━━━━━━━━━━━━━━━━━━━━━\u001b[0m \u001b[32m17.0/17.0 MB\u001b[0m \u001b[31m18.4 MB/s\u001b[0m eta \u001b[36m0:00:00\u001b[0m\n",
            "\u001b[?25hCollecting opencv-python==4.8.1.78 (from qai_hub_models[openai_clip])\n",
            "  Downloading opencv_python-4.8.1.78-cp37-abi3-manylinux_2_17_x86_64.manylinux2014_x86_64.whl (61.7 MB)\n",
            "\u001b[2K     \u001b[90m━━━━━━━━━━━━━━━━━━━━━━━━━━━━━━━━━━━━━━━━\u001b[0m \u001b[32m61.7/61.7 MB\u001b[0m \u001b[31m8.6 MB/s\u001b[0m eta \u001b[36m0:00:00\u001b[0m\n",
            "\u001b[?25hCollecting packaging==23.2 (from qai_hub_models[openai_clip])\n",
            "  Downloading packaging-23.2-py3-none-any.whl (53 kB)\n",
            "\u001b[2K     \u001b[90m━━━━━━━━━━━━━━━━━━━━━━━━━━━━━━━━━━━━━━━━\u001b[0m \u001b[32m53.0/53.0 kB\u001b[0m \u001b[31m5.1 MB/s\u001b[0m eta \u001b[36m0:00:00\u001b[0m\n",
            "\u001b[?25hRequirement already satisfied: pandas==1.5.3 in /usr/local/lib/python3.10/dist-packages (from qai_hub_models[openai_clip]) (1.5.3)\n",
            "Collecting prettytable==3.9.0 (from qai_hub_models[openai_clip])\n",
            "  Downloading prettytable-3.9.0-py3-none-any.whl (27 kB)\n",
            "Collecting protobuf==3.20.2 (from qai_hub_models[openai_clip])\n",
            "  Downloading protobuf-3.20.2-cp310-cp310-manylinux_2_12_x86_64.manylinux2010_x86_64.whl (1.1 MB)\n",
            "\u001b[2K     \u001b[90m━━━━━━━━━━━━━━━━━━━━━━━━━━━━━━━━━━━━━━━━\u001b[0m \u001b[32m1.1/1.1 MB\u001b[0m \u001b[31m53.8 MB/s\u001b[0m eta \u001b[36m0:00:00\u001b[0m\n",
            "\u001b[?25hCollecting pytest==7.4.2 (from qai_hub_models[openai_clip])\n",
            "  Downloading pytest-7.4.2-py3-none-any.whl (324 kB)\n",
            "\u001b[2K     \u001b[90m━━━━━━━━━━━━━━━━━━━━━━━━━━━━━━━━━━━━━━━━\u001b[0m \u001b[32m324.5/324.5 kB\u001b[0m \u001b[31m28.3 MB/s\u001b[0m eta \u001b[36m0:00:00\u001b[0m\n",
            "\u001b[?25hRequirement already satisfied: pyyaml==6.0.1 in /usr/local/lib/python3.10/dist-packages (from qai_hub_models[openai_clip]) (6.0.1)\n",
            "Requirement already satisfied: requests-toolbelt==1.0.0 in /usr/local/lib/python3.10/dist-packages (from qai_hub_models[openai_clip]) (1.0.0)\n",
            "Collecting schema==0.7.5 (from qai_hub_models[openai_clip])\n",
            "  Downloading schema-0.7.5-py2.py3-none-any.whl (17 kB)\n",
            "Collecting scipy==1.8.1 (from qai_hub_models[openai_clip])\n",
            "  Downloading scipy-1.8.1-cp310-cp310-manylinux_2_17_x86_64.manylinux2014_x86_64.whl (42.2 MB)\n",
            "\u001b[2K     \u001b[90m━━━━━━━━━━━━━━━━━━━━━━━━━━━━━━━━━━━━━━━━\u001b[0m \u001b[32m42.2/42.2 MB\u001b[0m \u001b[31m11.9 MB/s\u001b[0m eta \u001b[36m0:00:00\u001b[0m\n",
            "\u001b[?25hRequirement already satisfied: tabulate==0.9.0 in /usr/local/lib/python3.10/dist-packages (from qai_hub_models[openai_clip]) (0.9.0)\n",
            "Collecting torch==1.13.1 (from qai_hub_models[openai_clip])\n",
            "  Downloading torch-1.13.1-cp310-cp310-manylinux1_x86_64.whl (887.5 MB)\n",
            "\u001b[2K     \u001b[90m━━━━━━━━━━━━━━━━━━━━━━━━━━━━━━━━━━━━━━━━\u001b[0m \u001b[32m887.5/887.5 MB\u001b[0m \u001b[31m459.7 kB/s\u001b[0m eta \u001b[36m0:00:00\u001b[0m\n",
            "\u001b[?25hCollecting torchvision==0.14.1 (from qai_hub_models[openai_clip])\n",
            "  Downloading torchvision-0.14.1-cp310-cp310-manylinux1_x86_64.whl (24.2 MB)\n",
            "\u001b[2K     \u001b[90m━━━━━━━━━━━━━━━━━━━━━━━━━━━━━━━━━━━━━━━━\u001b[0m \u001b[32m24.2/24.2 MB\u001b[0m \u001b[31m1.2 MB/s\u001b[0m eta \u001b[36m0:00:00\u001b[0m\n",
            "\u001b[?25hCollecting typing-extensions==4.5.0 (from qai_hub_models[openai_clip])\n",
            "  Downloading typing_extensions-4.5.0-py3-none-any.whl (27 kB)\n",
            "Requirement already satisfied: tqdm==4.66.2 in /usr/local/lib/python3.10/dist-packages (from qai_hub_models[openai_clip]) (4.66.2)\n",
            "Collecting urllib3==1.26.18 (from qai_hub_models[openai_clip])\n",
            "  Downloading urllib3-1.26.18-py2.py3-none-any.whl (143 kB)\n",
            "\u001b[2K     \u001b[90m━━━━━━━━━━━━━━━━━━━━━━━━━━━━━━━━━━━━━━━━\u001b[0m \u001b[32m143.8/143.8 kB\u001b[0m \u001b[31m1.6 MB/s\u001b[0m eta \u001b[36m0:00:00\u001b[0m\n",
            "\u001b[?25hRequirement already satisfied: qai-hub>=0.9.0 in /usr/local/lib/python3.10/dist-packages (from qai_hub_models[openai_clip]) (0.9.0)\n",
            "Collecting ftfy==6.1.1 (from qai_hub_models[openai_clip])\n",
            "  Downloading ftfy-6.1.1-py3-none-any.whl (53 kB)\n",
            "\u001b[2K     \u001b[90m━━━━━━━━━━━━━━━━━━━━━━━━━━━━━━━━━━━━━━━━\u001b[0m \u001b[32m53.1/53.1 kB\u001b[0m \u001b[31m1.7 MB/s\u001b[0m eta \u001b[36m0:00:00\u001b[0m\n",
            "\u001b[?25hCollecting regex==2023.10.3 (from qai_hub_models[openai_clip])\n",
            "  Downloading regex-2023.10.3-cp310-cp310-manylinux_2_17_x86_64.manylinux2014_x86_64.whl (773 kB)\n",
            "\u001b[2K     \u001b[90m━━━━━━━━━━━━━━━━━━━━━━━━━━━━━━━━━━━━━━━━\u001b[0m \u001b[32m773.9/773.9 kB\u001b[0m \u001b[31m1.7 MB/s\u001b[0m eta \u001b[36m0:00:00\u001b[0m\n",
            "\u001b[?25hRequirement already satisfied: wcwidth>=0.2.5 in /usr/local/lib/python3.10/dist-packages (from ftfy==6.1.1->qai_hub_models[openai_clip]) (0.2.13)\n",
            "Requirement already satisfied: filelock in /usr/local/lib/python3.10/dist-packages (from gdown==4.7.1->qai_hub_models[openai_clip]) (3.13.1)\n",
            "Requirement already satisfied: requests[socks] in /usr/local/lib/python3.10/dist-packages (from gdown==4.7.1->qai_hub_models[openai_clip]) (2.31.0)\n",
            "Requirement already satisfied: six in /usr/local/lib/python3.10/dist-packages (from gdown==4.7.1->qai_hub_models[openai_clip]) (1.16.0)\n",
            "Requirement already satisfied: beautifulsoup4 in /usr/local/lib/python3.10/dist-packages (from gdown==4.7.1->qai_hub_models[openai_clip]) (4.12.3)\n",
            "Collecting gitdb<5,>=4.0.1 (from gitpython==3.1.42->qai_hub_models[openai_clip])\n",
            "  Downloading gitdb-4.0.11-py3-none-any.whl (62 kB)\n",
            "\u001b[2K     \u001b[90m━━━━━━━━━━━━━━━━━━━━━━━━━━━━━━━━━━━━━━━━\u001b[0m \u001b[32m62.7/62.7 kB\u001b[0m \u001b[31m1.2 MB/s\u001b[0m eta \u001b[36m0:00:00\u001b[0m\n",
            "\u001b[?25hRequirement already satisfied: backcall in /usr/local/lib/python3.10/dist-packages (from ipython==8.12.3->qai_hub_models[openai_clip]) (0.2.0)\n",
            "Requirement already satisfied: decorator in /usr/local/lib/python3.10/dist-packages (from ipython==8.12.3->qai_hub_models[openai_clip]) (4.4.2)\n",
            "Collecting jedi>=0.16 (from ipython==8.12.3->qai_hub_models[openai_clip])\n",
            "  Downloading jedi-0.19.1-py2.py3-none-any.whl (1.6 MB)\n",
            "\u001b[2K     \u001b[90m━━━━━━━━━━━━━━━━━━━━━━━━━━━━━━━━━━━━━━━━\u001b[0m \u001b[32m1.6/1.6 MB\u001b[0m \u001b[31m1.5 MB/s\u001b[0m eta \u001b[36m0:00:00\u001b[0m\n",
            "\u001b[?25hRequirement already satisfied: matplotlib-inline in /usr/local/lib/python3.10/dist-packages (from ipython==8.12.3->qai_hub_models[openai_clip]) (0.1.6)\n",
            "Requirement already satisfied: pickleshare in /usr/local/lib/python3.10/dist-packages (from ipython==8.12.3->qai_hub_models[openai_clip]) (0.7.5)\n",
            "Requirement already satisfied: prompt-toolkit!=3.0.37,<3.1.0,>=3.0.30 in /usr/local/lib/python3.10/dist-packages (from ipython==8.12.3->qai_hub_models[openai_clip]) (3.0.43)\n",
            "Requirement already satisfied: pygments>=2.4.0 in /usr/local/lib/python3.10/dist-packages (from ipython==8.12.3->qai_hub_models[openai_clip]) (2.16.1)\n",
            "Collecting stack-data (from ipython==8.12.3->qai_hub_models[openai_clip])\n",
            "  Downloading stack_data-0.6.3-py3-none-any.whl (24 kB)\n",
            "Requirement already satisfied: traitlets>=5 in /usr/local/lib/python3.10/dist-packages (from ipython==8.12.3->qai_hub_models[openai_clip]) (5.7.1)\n",
            "Requirement already satisfied: pexpect>4.3 in /usr/local/lib/python3.10/dist-packages (from ipython==8.12.3->qai_hub_models[openai_clip]) (4.9.0)\n",
            "Requirement already satisfied: python-dateutil>=2.8.1 in /usr/local/lib/python3.10/dist-packages (from pandas==1.5.3->qai_hub_models[openai_clip]) (2.8.2)\n",
            "Requirement already satisfied: pytz>=2020.1 in /usr/local/lib/python3.10/dist-packages (from pandas==1.5.3->qai_hub_models[openai_clip]) (2023.4)\n",
            "Requirement already satisfied: iniconfig in /usr/local/lib/python3.10/dist-packages (from pytest==7.4.2->qai_hub_models[openai_clip]) (2.0.0)\n",
            "Requirement already satisfied: pluggy<2.0,>=0.12 in /usr/local/lib/python3.10/dist-packages (from pytest==7.4.2->qai_hub_models[openai_clip]) (1.4.0)\n",
            "Requirement already satisfied: exceptiongroup>=1.0.0rc8 in /usr/local/lib/python3.10/dist-packages (from pytest==7.4.2->qai_hub_models[openai_clip]) (1.2.0)\n",
            "Requirement already satisfied: tomli>=1.0.0 in /usr/local/lib/python3.10/dist-packages (from pytest==7.4.2->qai_hub_models[openai_clip]) (2.0.1)\n",
            "Requirement already satisfied: contextlib2>=0.5.5 in /usr/local/lib/python3.10/dist-packages (from schema==0.7.5->qai_hub_models[openai_clip]) (21.6.0)\n",
            "Collecting nvidia-cuda-runtime-cu11==11.7.99 (from torch==1.13.1->qai_hub_models[openai_clip])\n",
            "  Downloading nvidia_cuda_runtime_cu11-11.7.99-py3-none-manylinux1_x86_64.whl (849 kB)\n",
            "\u001b[2K     \u001b[90m━━━━━━━━━━━━━━━━━━━━━━━━━━━━━━━━━━━━━━━━\u001b[0m \u001b[32m849.3/849.3 kB\u001b[0m \u001b[31m1.1 MB/s\u001b[0m eta \u001b[36m0:00:00\u001b[0m\n",
            "\u001b[?25hCollecting nvidia-cudnn-cu11==8.5.0.96 (from torch==1.13.1->qai_hub_models[openai_clip])\n",
            "  Downloading nvidia_cudnn_cu11-8.5.0.96-2-py3-none-manylinux1_x86_64.whl (557.1 MB)\n",
            "\u001b[2K     \u001b[90m━━━━━━━━━━━━━━━━━━━━━━━━━━━━━━━━━━━━━━━━\u001b[0m \u001b[32m557.1/557.1 MB\u001b[0m \u001b[31m1.2 MB/s\u001b[0m eta \u001b[36m0:00:00\u001b[0m\n",
            "\u001b[?25hCollecting nvidia-cublas-cu11==11.10.3.66 (from torch==1.13.1->qai_hub_models[openai_clip])\n",
            "  Downloading nvidia_cublas_cu11-11.10.3.66-py3-none-manylinux1_x86_64.whl (317.1 MB)\n",
            "\u001b[2K     \u001b[90m━━━━━━━━━━━━━━━━━━━━━━━━━━━━━━━━━━━━━━━━\u001b[0m \u001b[32m317.1/317.1 MB\u001b[0m \u001b[31m1.2 MB/s\u001b[0m eta \u001b[36m0:00:00\u001b[0m\n",
            "\u001b[?25hCollecting nvidia-cuda-nvrtc-cu11==11.7.99 (from torch==1.13.1->qai_hub_models[openai_clip])\n",
            "  Downloading nvidia_cuda_nvrtc_cu11-11.7.99-2-py3-none-manylinux1_x86_64.whl (21.0 MB)\n",
            "\u001b[2K     \u001b[90m━━━━━━━━━━━━━━━━━━━━━━━━━━━━━━━━━━━━━━━━\u001b[0m \u001b[32m21.0/21.0 MB\u001b[0m \u001b[31m2.0 MB/s\u001b[0m eta \u001b[36m0:00:00\u001b[0m\n",
            "\u001b[?25hRequirement already satisfied: setuptools in /usr/local/lib/python3.10/dist-packages (from nvidia-cublas-cu11==11.10.3.66->torch==1.13.1->qai_hub_models[openai_clip]) (67.7.2)\n",
            "Requirement already satisfied: wheel in /usr/local/lib/python3.10/dist-packages (from nvidia-cublas-cu11==11.10.3.66->torch==1.13.1->qai_hub_models[openai_clip]) (0.43.0)\n",
            "Requirement already satisfied: h5py<4,>=3.6.0 in /usr/local/lib/python3.10/dist-packages (from qai-hub>=0.9.0->qai_hub_models[openai_clip]) (3.9.0)\n",
            "Collecting smmap<6,>=3.0.1 (from gitdb<5,>=4.0.1->gitpython==3.1.42->qai_hub_models[openai_clip])\n",
            "  Downloading smmap-5.0.1-py3-none-any.whl (24 kB)\n",
            "Requirement already satisfied: parso<0.9.0,>=0.8.3 in /usr/local/lib/python3.10/dist-packages (from jedi>=0.16->ipython==8.12.3->qai_hub_models[openai_clip]) (0.8.3)\n",
            "Requirement already satisfied: ptyprocess>=0.5 in /usr/local/lib/python3.10/dist-packages (from pexpect>4.3->ipython==8.12.3->qai_hub_models[openai_clip]) (0.7.0)\n",
            "Requirement already satisfied: charset-normalizer<4,>=2 in /usr/local/lib/python3.10/dist-packages (from requests[socks]->gdown==4.7.1->qai_hub_models[openai_clip]) (3.3.2)\n",
            "Requirement already satisfied: idna<4,>=2.5 in /usr/local/lib/python3.10/dist-packages (from requests[socks]->gdown==4.7.1->qai_hub_models[openai_clip]) (3.6)\n",
            "Requirement already satisfied: certifi>=2017.4.17 in /usr/local/lib/python3.10/dist-packages (from requests[socks]->gdown==4.7.1->qai_hub_models[openai_clip]) (2024.2.2)\n",
            "Requirement already satisfied: soupsieve>1.2 in /usr/local/lib/python3.10/dist-packages (from beautifulsoup4->gdown==4.7.1->qai_hub_models[openai_clip]) (2.5)\n",
            "Requirement already satisfied: PySocks!=1.5.7,>=1.5.6 in /usr/local/lib/python3.10/dist-packages (from requests[socks]->gdown==4.7.1->qai_hub_models[openai_clip]) (1.7.1)\n",
            "Collecting executing>=1.2.0 (from stack-data->ipython==8.12.3->qai_hub_models[openai_clip])\n",
            "  Downloading executing-2.0.1-py2.py3-none-any.whl (24 kB)\n",
            "Collecting asttokens>=2.1.0 (from stack-data->ipython==8.12.3->qai_hub_models[openai_clip])\n",
            "  Downloading asttokens-2.4.1-py2.py3-none-any.whl (27 kB)\n",
            "Collecting pure-eval (from stack-data->ipython==8.12.3->qai_hub_models[openai_clip])\n",
            "  Downloading pure_eval-0.2.2-py3-none-any.whl (11 kB)\n",
            "Installing collected packages: pure-eval, urllib3, typing-extensions, smmap, schema, regex, protobuf, prettytable, Pillow, packaging, nvidia-cuda-runtime-cu11, nvidia-cuda-nvrtc-cu11, nvidia-cublas-cu11, numpy, jedi, ftfy, executing, asttokens, stack-data, scipy, pytest, opencv-python, nvidia-cudnn-cu11, gitdb, torch, ipython, gitpython, torchvision, gdown, qai_hub_models\n",
            "  Attempting uninstall: urllib3\n",
            "    Found existing installation: urllib3 2.0.7\n",
            "    Uninstalling urllib3-2.0.7:\n",
            "      Successfully uninstalled urllib3-2.0.7\n",
            "  Attempting uninstall: typing-extensions\n",
            "    Found existing installation: typing_extensions 4.10.0\n",
            "    Uninstalling typing_extensions-4.10.0:\n",
            "      Successfully uninstalled typing_extensions-4.10.0\n",
            "  Attempting uninstall: regex\n",
            "    Found existing installation: regex 2023.12.25\n",
            "    Uninstalling regex-2023.12.25:\n",
            "      Successfully uninstalled regex-2023.12.25\n",
            "  Attempting uninstall: protobuf\n",
            "    Found existing installation: protobuf 3.20.3\n",
            "    Uninstalling protobuf-3.20.3:\n",
            "      Successfully uninstalled protobuf-3.20.3\n",
            "  Attempting uninstall: prettytable\n",
            "    Found existing installation: prettytable 3.10.0\n",
            "    Uninstalling prettytable-3.10.0:\n",
            "      Successfully uninstalled prettytable-3.10.0\n",
            "  Attempting uninstall: Pillow\n",
            "    Found existing installation: Pillow 9.4.0\n",
            "    Uninstalling Pillow-9.4.0:\n",
            "      Successfully uninstalled Pillow-9.4.0\n",
            "  Attempting uninstall: packaging\n",
            "    Found existing installation: packaging 24.0\n",
            "    Uninstalling packaging-24.0:\n",
            "      Successfully uninstalled packaging-24.0\n",
            "  Attempting uninstall: numpy\n",
            "    Found existing installation: numpy 1.25.2\n",
            "    Uninstalling numpy-1.25.2:\n",
            "      Successfully uninstalled numpy-1.25.2\n",
            "  Attempting uninstall: scipy\n",
            "    Found existing installation: scipy 1.11.4\n",
            "    Uninstalling scipy-1.11.4:\n",
            "      Successfully uninstalled scipy-1.11.4\n",
            "  Attempting uninstall: pytest\n",
            "    Found existing installation: pytest 7.4.4\n",
            "    Uninstalling pytest-7.4.4:\n",
            "      Successfully uninstalled pytest-7.4.4\n",
            "  Attempting uninstall: opencv-python\n",
            "    Found existing installation: opencv-python 4.8.0.76\n",
            "    Uninstalling opencv-python-4.8.0.76:\n",
            "      Successfully uninstalled opencv-python-4.8.0.76\n",
            "  Attempting uninstall: torch\n",
            "    Found existing installation: torch 2.2.1+cu121\n",
            "    Uninstalling torch-2.2.1+cu121:\n",
            "      Successfully uninstalled torch-2.2.1+cu121\n",
            "  Attempting uninstall: ipython\n",
            "    Found existing installation: ipython 7.34.0\n",
            "    Uninstalling ipython-7.34.0:\n",
            "      Successfully uninstalled ipython-7.34.0\n",
            "  Attempting uninstall: torchvision\n",
            "    Found existing installation: torchvision 0.17.1+cu121\n",
            "    Uninstalling torchvision-0.17.1+cu121:\n",
            "      Successfully uninstalled torchvision-0.17.1+cu121\n",
            "  Attempting uninstall: gdown\n",
            "    Found existing installation: gdown 4.7.3\n",
            "    Uninstalling gdown-4.7.3:\n",
            "      Successfully uninstalled gdown-4.7.3\n",
            "\u001b[31mERROR: pip's dependency resolver does not currently take into account all the packages that are installed. This behaviour is the source of the following dependency conflicts.\n",
            "sqlalchemy 2.0.28 requires typing-extensions>=4.6.0, but you have typing-extensions 4.5.0 which is incompatible.\n",
            "chex 0.1.85 requires numpy>=1.24.1, but you have numpy 1.23.1 which is incompatible.\n",
            "google-colab 1.0.0 requires ipython==7.34.0, but you have ipython 8.12.3 which is incompatible.\n",
            "jax 0.4.23 requires scipy>=1.9, but you have scipy 1.8.1 which is incompatible.\n",
            "jaxlib 0.4.23+cuda12.cudnn89 requires scipy>=1.9, but you have scipy 1.8.1 which is incompatible.\n",
            "pydantic 2.6.4 requires typing-extensions>=4.6.1, but you have typing-extensions 4.5.0 which is incompatible.\n",
            "pydantic-core 2.16.3 requires typing-extensions!=4.7.0,>=4.6.0, but you have typing-extensions 4.5.0 which is incompatible.\n",
            "tensorflow 2.15.0 requires numpy<2.0.0,>=1.23.5, but you have numpy 1.23.1 which is incompatible.\n",
            "tensorflow 2.15.0 requires protobuf!=4.21.0,!=4.21.1,!=4.21.2,!=4.21.3,!=4.21.4,!=4.21.5,<5.0.0dev,>=3.20.3, but you have protobuf 3.20.2 which is incompatible.\n",
            "tensorflow-metadata 1.14.0 requires protobuf<4.21,>=3.20.3, but you have protobuf 3.20.2 which is incompatible.\n",
            "torchaudio 2.2.1+cu121 requires torch==2.2.1, but you have torch 1.13.1 which is incompatible.\n",
            "torchdata 0.7.1 requires torch>=2, but you have torch 1.13.1 which is incompatible.\n",
            "torchtext 0.17.1 requires torch==2.2.1, but you have torch 1.13.1 which is incompatible.\u001b[0m\u001b[31m\n",
            "\u001b[0mSuccessfully installed Pillow-10.0.1 asttokens-2.4.1 executing-2.0.1 ftfy-6.1.1 gdown-4.7.1 gitdb-4.0.11 gitpython-3.1.42 ipython-8.12.3 jedi-0.19.1 numpy-1.23.1 nvidia-cublas-cu11-11.10.3.66 nvidia-cuda-nvrtc-cu11-11.7.99 nvidia-cuda-runtime-cu11-11.7.99 nvidia-cudnn-cu11-8.5.0.96 opencv-python-4.8.1.78 packaging-23.2 prettytable-3.9.0 protobuf-3.20.2 pure-eval-0.2.2 pytest-7.4.2 qai_hub_models-0.4.0 regex-2023.10.3 schema-0.7.5 scipy-1.8.1 smmap-5.0.1 stack-data-0.6.3 torch-1.13.1 torchvision-0.14.1 typing-extensions-4.5.0 urllib3-1.26.18\n"
          ]
        },
        {
          "output_type": "display_data",
          "data": {
            "application/vnd.colab-display-data+json": {
              "pip_warning": {
                "packages": [
                  "IPython",
                  "PIL",
                  "google",
                  "numpy"
                ]
              },
              "id": "ea83a110839b4be6818586a4bafa36e8"
            }
          },
          "metadata": {}
        }
      ]
    },
    {
      "cell_type": "code",
      "source": [
        "!python -m qai_hub_models.models.openai_clip.demo"
      ],
      "metadata": {
        "colab": {
          "base_uri": "https://localhost:8080/"
        },
        "id": "iEkDmEVPxYZt",
        "outputId": "f34e3a03-0eda-411b-f961-ab397502a06e"
      },
      "execution_count": null,
      "outputs": [
        {
          "output_type": "stream",
          "name": "stdout",
          "text": [
            "/usr/local/lib/python3.10/dist-packages/huggingface_hub/utils/_runtime.py:184: UserWarning: Pydantic is installed but cannot be imported. Please check your installation. `huggingface_hub` will default to not using Pydantic. Error message: '{e}'\n",
            "  warnings.warn(\n",
            "openai_clip requires repository https://github.com/openai/CLIP . Ok to clone? [Y/n] Y\n",
            "Cloning https://github.com/openai/CLIP to /root/.qaihm/models/openai_clip/v1/openai_CLIP_git...\n",
            "Done\n",
            "100%|████████████████████████████████████████| 335M/335M [00:01<00:00, 178MiB/s]\n",
            "Downloading data at https://qaihub-public-assets.s3.us-west-2.amazonaws.com/qai-hub-models/models/openai_clip/v1/image1.jpg to /root/.qaihm/models/openai_clip/v1/image1.jpg... Done\n",
            "Downloading data at https://qaihub-public-assets.s3.us-west-2.amazonaws.com/qai-hub-models/models/openai_clip/v1/image2.jpg to /root/.qaihm/models/openai_clip/v1/image2.jpg... Done\n",
            "Downloading data at https://qaihub-public-assets.s3.us-west-2.amazonaws.com/qai-hub-models/models/openai_clip/v1/image3.jpg to /root/.qaihm/models/openai_clip/v1/image3.jpg... Done\n",
            "Searching images by prompt: camping under the stars\n",
            "\t Image with name: image1.jpg has a similarity score=16.09138298034668\n",
            "\t Image with name: image2.jpg has a similarity score=18.69312286376953\n",
            "\t Image with name: image3.jpg has a similarity score=34.05372619628906\n",
            "Displaying the most relevant image\n",
            "Displaying image\n",
            "/usr/bin/xdg-open: 882: www-browser: not found\n",
            "/usr/bin/xdg-open: 882: links2: not found\n",
            "/usr/bin/xdg-open: 882: elinks: not found\n",
            "/usr/bin/xdg-open: 882: links: not found\n",
            "/usr/bin/xdg-open: 882: lynx: not found\n",
            "/usr/bin/xdg-open: 882: w3m: not found\n",
            "xdg-open: no method available for opening '/tmp/tmpxm5el8ir.PNG'\n"
          ]
        }
      ]
    },
    {
      "cell_type": "code",
      "source": [
        "import qai_hub as hub\n",
        "\n",
        "# Compile a model to a QNN Model Library\n",
        "compile_job = hub.submit_compile_job(\n",
        "    model=\"mobilenet_v2.pt\",\n",
        "    device=hub.Device(\"Samsung Galaxy S23\"),\n",
        "    options=\"--target_runtime qnn_lib_aarch64_android\",\n",
        "    input_specs=dict(image=(1, 3, 224, 224)),\n",
        ")\n",
        "assert isinstance(compile_job, hub.CompileJob)"
      ],
      "metadata": {
        "id": "uE0oqY0-Fcmd"
      },
      "execution_count": null,
      "outputs": []
    },
    {
      "cell_type": "code",
      "source": [
        "!python -m qai_hub_models.models.openai_clip.export --target-runtime qnn_lib_aarch64_android"
      ],
      "metadata": {
        "colab": {
          "base_uri": "https://localhost:8080/"
        },
        "id": "J_s11noIRIQ8",
        "outputId": "8260017b-fe4b-4339-bf96-3a91e7e0e520"
      },
      "execution_count": null,
      "outputs": [
        {
          "output_type": "stream",
          "name": "stdout",
          "text": [
            "/usr/local/lib/python3.10/dist-packages/huggingface_hub/utils/_runtime.py:184: UserWarning: Pydantic is installed but cannot be imported. Please check your installation. `huggingface_hub` will default to not using Pydantic. Error message: '{e}'\n",
            "  warnings.warn(\n",
            "usage: export.py [-h] [--device DEVICE] [--skip-profiling] [--skip-inferencing]\n",
            "                 [--skip-downloading] [--skip-summary] [--output-dir OUTPUT_DIR]\n",
            "                 [--target-runtime {tflite,qnn}] [--compile-options COMPILE_OPTIONS]\n",
            "                 [--profile-options PROFILE_OPTIONS]\n",
            "                 [--components {CLIPTextEncoder,CLIPImageEncoder} [{CLIPTextEncoder,CLIPImageEncoder} ...]]\n",
            "export.py: error: argument --target-runtime: invalid choice: 'qnn_lib_aarch64_android' (choose from 'tflite', 'qnn')\n"
          ]
        }
      ]
    },
    {
      "cell_type": "code",
      "source": [
        "!python -m qai_hub_models.models.openai_clip.export --target_runtime qnn"
      ],
      "metadata": {
        "colab": {
          "base_uri": "https://localhost:8080/"
        },
        "id": "gOW0SJVXx080",
        "outputId": "a2afe65b-269b-44bd-8df0-9a0f536bab44"
      },
      "execution_count": null,
      "outputs": [
        {
          "output_type": "stream",
          "name": "stdout",
          "text": [
            "Optimizing model CLIPTextEncoder to run on-device.\n",
            "Uploading model: 100% 571M/571M [00:09<00:00, 65.2MB/s]\n",
            "Scheduled compile job (j1p383m52) successfully. To see the status and results:\n",
            "    https://app.aihub.qualcomm.com/jobs/j1p383m52/\n",
            "\n",
            "Optimizing model CLIPImageEncoder to run on-device.\n",
            "Uploading model: 100% 571M/571M [00:09<00:00, 62.0MB/s]\n",
            "Scheduled compile job (jwgom0158) successfully. To see the status and results:\n",
            "    https://app.aihub.qualcomm.com/jobs/jwgom0158/\n",
            "\n",
            "Profiling model CLIPTextEncoder on a hosted device.\n",
            "Waiting for compile job (j1p383m52) completion. Type Ctrl+C to stop waiting at any time.\n",
            "    ✅ SUCCESS                          \u0007\n",
            "Scheduled profiling job (j1pv4ozpx) successfully. To see the status and results:\n",
            "    https://app.aihub.qualcomm.com/jobs/j1pv4ozpx/\n",
            "\n",
            "Profiling model CLIPImageEncoder on a hosted device.\n",
            "Waiting for compile job (jwgom0158) completion. Type Ctrl+C to stop waiting at any time.\n",
            "    ✅ SUCCESS                          \u0007\n",
            "Scheduled profiling job (j7gj1m1gd) successfully. To see the status and results:\n",
            "    https://app.aihub.qualcomm.com/jobs/j7gj1m1gd/\n",
            "\n",
            "Running inference for CLIPTextEncoder on a hosted device with example inputs.\n",
            "Uploading dataset: 100% 13.9k/13.9k [00:00<00:00, 50.1kB/s]\n",
            "\n",
            "┌────────────────────────────────────────────────────────────────────┐\n",
            "| Qualcomm AI Hub's invited beta program has a limit of 2 concurrent |\n",
            "| inference jobs. Please reach out to ai-hub-                        |\n",
            "| support@qti.qualcomm.com if you would like to increase this limit. |\n",
            "| Retrying periodically until your request succeeds. Interrupt this  |\n",
            "| and pass retry=False if you don't want this automatic retry.       |\n",
            "└────────────────────────────────────────────────────────────────────┘\n",
            "Retrying after 20 seconds.\n",
            "Retrying after 40 seconds.\n",
            "Retrying after 60 seconds.\n",
            "Scheduled inference job (jlpe218pr) successfully. To see the status and results:\n",
            "    https://app.aihub.qualcomm.com/jobs/jlpe218pr/\n",
            "\n",
            "Running inference for CLIPImageEncoder on a hosted device with example inputs.\n",
            "Uploading dataset: 100% 540k/540k [00:00<00:00, 1.22MB/s]\n",
            "\n",
            "┌────────────────────────────────────────────────────────────────────┐\n",
            "| Qualcomm AI Hub's invited beta program has a limit of 2 concurrent |\n",
            "| inference jobs. Please reach out to ai-hub-                        |\n",
            "| support@qti.qualcomm.com if you would like to increase this limit. |\n",
            "| Retrying periodically until your request succeeds. Interrupt this  |\n",
            "| and pass retry=False if you don't want this automatic retry.       |\n",
            "└────────────────────────────────────────────────────────────────────┘\n",
            "Retrying after 20 seconds.\n",
            "Retrying after 40 seconds.\n",
            "Retrying after 60 seconds.\n",
            "Scheduled inference job (jygzw94g8) successfully. To see the status and results:\n",
            "    https://app.aihub.qualcomm.com/jobs/jygzw94g8/\n",
            "\n",
            "job_j1p383m52_optimized_so_mjqygwrqr.so: 100% 243M/243M [00:05<00:00, 49.7MB/s]\n",
            "job_jwgom0158_optimized_so_mpn7jkvn1.so: 100% 330M/330M [00:06<00:00, 50.8MB/s]\n",
            "\n",
            "------------------------------------------------------------\n",
            "Performance results on-device for Cliptextencoder.\n",
            "------------------------------------------------------------\n",
            "Device                          : Samsung Galaxy S23 (13)\n",
            "Runtime                         : QNN                    \n",
            "Estimated inference time (ms)   : 8.1                    \n",
            "Estimated peak memory usage (MB): [0, 20]                \n",
            "Total # Ops                     : 377                    \n",
            "Compute Unit(s)                 : NPU (377 ops)          \n",
            "------------------------------------------------------------\n",
            "More details: https://app.aihub.qualcomm.com/jobs/j1pv4ozpx/\n",
            "\n",
            "Waiting for profile job (j7gj1m1gd) completion. Type Ctrl+C to stop waiting at any time.\n",
            "    ✅ SUCCESS                          \u0007\n",
            "\n",
            "------------------------------------------------------------\n",
            "Performance results on-device for Clipimageencoder.\n",
            "------------------------------------------------------------\n",
            "Device                          : Samsung Galaxy S23 (13)\n",
            "Runtime                         : QNN                    \n",
            "Estimated inference time (ms)   : 50.6                   \n",
            "Estimated peak memory usage (MB): [0, 56]                \n",
            "Total # Ops                     : 370                    \n",
            "Compute Unit(s)                 : NPU (370 ops)          \n",
            "------------------------------------------------------------\n",
            "More details: https://app.aihub.qualcomm.com/jobs/j7gj1m1gd/\n",
            "\n",
            "dataset-d67oen691.h5: 100% 13.9k/13.9k [00:00<00:00, 15.1MB/s]\n",
            "\n",
            "Comparing on-device vs. local-cpu inference for Cliptextencoder.\n",
            "+---------------+----------+--------+\n",
            "| output_name   | shape    |   psnr |\n",
            "+===============+==========+========+\n",
            "| output_0      | (1, 512) |  69.66 |\n",
            "+---------------+----------+--------+\n",
            "\n",
            "- psnr: Peak Signal-to-Noise Ratio (PSNR). >30 dB is typically considered good.\n",
            "\n",
            "More details: https://app.aihub.qualcomm.com/jobs/jlpe218pr/\n",
            "Waiting for inference job (jygzw94g8) completion. Type Ctrl+C to stop waiting at any time.\n",
            "    ✅ SUCCESS                          \u0007\n",
            "dataset-dw9vzwm75.h5: 100% 13.9k/13.9k [00:00<00:00, 10.2MB/s]\n",
            "\n",
            "Comparing on-device vs. local-cpu inference for Clipimageencoder.\n",
            "+---------------+----------+--------+\n",
            "| output_name   | shape    |   psnr |\n",
            "+===============+==========+========+\n",
            "| output_0      | (1, 512) |   73.2 |\n",
            "+---------------+----------+--------+\n",
            "\n",
            "- psnr: Peak Signal-to-Noise Ratio (PSNR). >30 dB is typically considered good.\n",
            "\n",
            "More details: https://app.aihub.qualcomm.com/jobs/jygzw94g8/\n"
          ]
        }
      ]
    },
    {
      "cell_type": "markdown",
      "source": [
        "### Fast SAM"
      ],
      "metadata": {
        "id": "yPlWB9Sxxg30"
      }
    },
    {
      "cell_type": "code",
      "source": [
        "!pip install \"qai-hub-models[fastsam_s]\""
      ],
      "metadata": {
        "colab": {
          "base_uri": "https://localhost:8080/",
          "height": 1000
        },
        "id": "XvpXlABcqaNo",
        "outputId": "bd6a54fa-fc98-4566-ae9b-9bbad0ed3bb1"
      },
      "execution_count": null,
      "outputs": [
        {
          "output_type": "stream",
          "name": "stdout",
          "text": [
            "Collecting qai-hub-models[fastsam_s]\n",
            "  Downloading qai_hub_models-0.3.2-py3-none-any.whl (806 kB)\n",
            "\u001b[2K     \u001b[90m━━━━━━━━━━━━━━━━━━━━━━━━━━━━━━━━━━━━━━━━\u001b[0m \u001b[32m806.4/806.4 kB\u001b[0m \u001b[31m9.6 MB/s\u001b[0m eta \u001b[36m0:00:00\u001b[0m\n",
            "\u001b[?25hCollecting Pillow==10.0.1 (from qai-hub-models[fastsam_s])\n",
            "  Downloading Pillow-10.0.1-cp310-cp310-manylinux_2_28_x86_64.whl (3.6 MB)\n",
            "\u001b[2K     \u001b[90m━━━━━━━━━━━━━━━━━━━━━━━━━━━━━━━━━━━━━━━━\u001b[0m \u001b[32m3.6/3.6 MB\u001b[0m \u001b[31m21.3 MB/s\u001b[0m eta \u001b[36m0:00:00\u001b[0m\n",
            "\u001b[?25hCollecting gdown==4.7.1 (from qai-hub-models[fastsam_s])\n",
            "  Downloading gdown-4.7.1-py3-none-any.whl (15 kB)\n",
            "Collecting gitpython (from qai-hub-models[fastsam_s])\n",
            "  Downloading GitPython-3.1.42-py3-none-any.whl (195 kB)\n",
            "\u001b[2K     \u001b[90m━━━━━━━━━━━━━━━━━━━━━━━━━━━━━━━━━━━━━━━━\u001b[0m \u001b[32m195.4/195.4 kB\u001b[0m \u001b[31m25.0 MB/s\u001b[0m eta \u001b[36m0:00:00\u001b[0m\n",
            "\u001b[?25hRequirement already satisfied: huggingface-hub in /usr/local/lib/python3.10/dist-packages (from qai-hub-models[fastsam_s]) (0.20.3)\n",
            "Requirement already satisfied: ipython in /usr/local/lib/python3.10/dist-packages (from qai-hub-models[fastsam_s]) (7.34.0)\n",
            "Collecting numpy==1.23.1 (from qai-hub-models[fastsam_s])\n",
            "  Downloading numpy-1.23.1-cp310-cp310-manylinux_2_17_x86_64.manylinux2014_x86_64.whl (17.0 MB)\n",
            "\u001b[2K     \u001b[90m━━━━━━━━━━━━━━━━━━━━━━━━━━━━━━━━━━━━━━━━\u001b[0m \u001b[32m17.0/17.0 MB\u001b[0m \u001b[31m28.9 MB/s\u001b[0m eta \u001b[36m0:00:00\u001b[0m\n",
            "\u001b[?25hCollecting opencv-python==4.8.1.78 (from qai-hub-models[fastsam_s])\n",
            "  Downloading opencv_python-4.8.1.78-cp37-abi3-manylinux_2_17_x86_64.manylinux2014_x86_64.whl (61.7 MB)\n",
            "\u001b[2K     \u001b[90m━━━━━━━━━━━━━━━━━━━━━━━━━━━━━━━━━━━━━━━━\u001b[0m \u001b[32m61.7/61.7 MB\u001b[0m \u001b[31m10.4 MB/s\u001b[0m eta \u001b[36m0:00:00\u001b[0m\n",
            "\u001b[?25hRequirement already satisfied: pandas in /usr/local/lib/python3.10/dist-packages (from qai-hub-models[fastsam_s]) (1.5.3)\n",
            "Requirement already satisfied: prettytable in /usr/local/lib/python3.10/dist-packages (from qai-hub-models[fastsam_s]) (3.9.0)\n",
            "Collecting pytest==7.4.2 (from qai-hub-models[fastsam_s])\n",
            "  Downloading pytest-7.4.2-py3-none-any.whl (324 kB)\n",
            "\u001b[2K     \u001b[90m━━━━━━━━━━━━━━━━━━━━━━━━━━━━━━━━━━━━━━━━\u001b[0m \u001b[32m324.5/324.5 kB\u001b[0m \u001b[31m29.8 MB/s\u001b[0m eta \u001b[36m0:00:00\u001b[0m\n",
            "\u001b[?25hRequirement already satisfied: pyyaml in /usr/local/lib/python3.10/dist-packages (from qai-hub-models[fastsam_s]) (6.0.1)\n",
            "Requirement already satisfied: qai-hub>=0.9.0 in /usr/local/lib/python3.10/dist-packages (from qai-hub-models[fastsam_s]) (0.9.0)\n",
            "Requirement already satisfied: requests in /usr/local/lib/python3.10/dist-packages (from qai-hub-models[fastsam_s]) (2.31.0)\n",
            "Requirement already satisfied: requests-toolbelt in /usr/local/lib/python3.10/dist-packages (from qai-hub-models[fastsam_s]) (1.0.0)\n",
            "Collecting schema (from qai-hub-models[fastsam_s])\n",
            "  Downloading schema-0.7.5-py2.py3-none-any.whl (17 kB)\n",
            "Requirement already satisfied: tabulate in /usr/local/lib/python3.10/dist-packages (from qai-hub-models[fastsam_s]) (0.9.0)\n",
            "Collecting torch==1.13.1 (from qai-hub-models[fastsam_s])\n",
            "  Downloading torch-1.13.1-cp310-cp310-manylinux1_x86_64.whl (887.5 MB)\n",
            "\u001b[2K     \u001b[90m━━━━━━━━━━━━━━━━━━━━━━━━━━━━━━━━━━━━━━━━\u001b[0m \u001b[32m887.5/887.5 MB\u001b[0m \u001b[31m1.5 MB/s\u001b[0m eta \u001b[36m0:00:00\u001b[0m\n",
            "\u001b[?25hCollecting torchvision<=0.14.1 (from qai-hub-models[fastsam_s])\n",
            "  Downloading torchvision-0.14.1-cp310-cp310-manylinux1_x86_64.whl (24.2 MB)\n",
            "\u001b[2K     \u001b[90m━━━━━━━━━━━━━━━━━━━━━━━━━━━━━━━━━━━━━━━━\u001b[0m \u001b[32m24.2/24.2 MB\u001b[0m \u001b[31m44.1 MB/s\u001b[0m eta \u001b[36m0:00:00\u001b[0m\n",
            "\u001b[?25hCollecting urllib3<2 (from qai-hub-models[fastsam_s])\n",
            "  Downloading urllib3-1.26.18-py2.py3-none-any.whl (143 kB)\n",
            "\u001b[2K     \u001b[90m━━━━━━━━━━━━━━━━━━━━━━━━━━━━━━━━━━━━━━━━\u001b[0m \u001b[32m143.8/143.8 kB\u001b[0m \u001b[31m17.9 MB/s\u001b[0m eta \u001b[36m0:00:00\u001b[0m\n",
            "\u001b[?25hCollecting ultralytics==8.0.193 (from qai-hub-models[fastsam_s])\n",
            "  Downloading ultralytics-8.0.193-py3-none-any.whl (617 kB)\n",
            "\u001b[2K     \u001b[90m━━━━━━━━━━━━━━━━━━━━━━━━━━━━━━━━━━━━━━━━\u001b[0m \u001b[32m617.3/617.3 kB\u001b[0m \u001b[31m46.6 MB/s\u001b[0m eta \u001b[36m0:00:00\u001b[0m\n",
            "\u001b[?25hRequirement already satisfied: filelock in /usr/local/lib/python3.10/dist-packages (from gdown==4.7.1->qai-hub-models[fastsam_s]) (3.13.1)\n",
            "Requirement already satisfied: six in /usr/local/lib/python3.10/dist-packages (from gdown==4.7.1->qai-hub-models[fastsam_s]) (1.16.0)\n",
            "Requirement already satisfied: tqdm in /usr/local/lib/python3.10/dist-packages (from gdown==4.7.1->qai-hub-models[fastsam_s]) (4.66.2)\n",
            "Requirement already satisfied: beautifulsoup4 in /usr/local/lib/python3.10/dist-packages (from gdown==4.7.1->qai-hub-models[fastsam_s]) (4.12.3)\n",
            "Requirement already satisfied: iniconfig in /usr/local/lib/python3.10/dist-packages (from pytest==7.4.2->qai-hub-models[fastsam_s]) (2.0.0)\n",
            "Requirement already satisfied: packaging in /usr/local/lib/python3.10/dist-packages (from pytest==7.4.2->qai-hub-models[fastsam_s]) (23.2)\n",
            "Requirement already satisfied: pluggy<2.0,>=0.12 in /usr/local/lib/python3.10/dist-packages (from pytest==7.4.2->qai-hub-models[fastsam_s]) (1.4.0)\n",
            "Requirement already satisfied: exceptiongroup>=1.0.0rc8 in /usr/local/lib/python3.10/dist-packages (from pytest==7.4.2->qai-hub-models[fastsam_s]) (1.2.0)\n",
            "Requirement already satisfied: tomli>=1.0.0 in /usr/local/lib/python3.10/dist-packages (from pytest==7.4.2->qai-hub-models[fastsam_s]) (2.0.1)\n",
            "Requirement already satisfied: typing-extensions in /usr/local/lib/python3.10/dist-packages (from torch==1.13.1->qai-hub-models[fastsam_s]) (4.9.0)\n",
            "Collecting nvidia-cuda-runtime-cu11==11.7.99 (from torch==1.13.1->qai-hub-models[fastsam_s])\n",
            "  Downloading nvidia_cuda_runtime_cu11-11.7.99-py3-none-manylinux1_x86_64.whl (849 kB)\n",
            "\u001b[2K     \u001b[90m━━━━━━━━━━━━━━━━━━━━━━━━━━━━━━━━━━━━━━━━\u001b[0m \u001b[32m849.3/849.3 kB\u001b[0m \u001b[31m50.9 MB/s\u001b[0m eta \u001b[36m0:00:00\u001b[0m\n",
            "\u001b[?25hCollecting nvidia-cudnn-cu11==8.5.0.96 (from torch==1.13.1->qai-hub-models[fastsam_s])\n",
            "  Downloading nvidia_cudnn_cu11-8.5.0.96-2-py3-none-manylinux1_x86_64.whl (557.1 MB)\n",
            "\u001b[2K     \u001b[90m━━━━━━━━━━━━━━━━━━━━━━━━━━━━━━━━━━━━━━━━\u001b[0m \u001b[32m557.1/557.1 MB\u001b[0m \u001b[31m1.9 MB/s\u001b[0m eta \u001b[36m0:00:00\u001b[0m\n",
            "\u001b[?25hCollecting nvidia-cublas-cu11==11.10.3.66 (from torch==1.13.1->qai-hub-models[fastsam_s])\n",
            "  Downloading nvidia_cublas_cu11-11.10.3.66-py3-none-manylinux1_x86_64.whl (317.1 MB)\n",
            "\u001b[2K     \u001b[90m━━━━━━━━━━━━━━━━━━━━━━━━━━━━━━━━━━━━━━━━\u001b[0m \u001b[32m317.1/317.1 MB\u001b[0m \u001b[31m4.0 MB/s\u001b[0m eta \u001b[36m0:00:00\u001b[0m\n",
            "\u001b[?25hCollecting nvidia-cuda-nvrtc-cu11==11.7.99 (from torch==1.13.1->qai-hub-models[fastsam_s])\n",
            "  Downloading nvidia_cuda_nvrtc_cu11-11.7.99-2-py3-none-manylinux1_x86_64.whl (21.0 MB)\n",
            "\u001b[2K     \u001b[90m━━━━━━━━━━━━━━━━━━━━━━━━━━━━━━━━━━━━━━━━\u001b[0m \u001b[32m21.0/21.0 MB\u001b[0m \u001b[31m40.3 MB/s\u001b[0m eta \u001b[36m0:00:00\u001b[0m\n",
            "\u001b[?25hRequirement already satisfied: matplotlib>=3.3.0 in /usr/local/lib/python3.10/dist-packages (from ultralytics==8.0.193->qai-hub-models[fastsam_s]) (3.7.1)\n",
            "Requirement already satisfied: scipy>=1.4.1 in /usr/local/lib/python3.10/dist-packages (from ultralytics==8.0.193->qai-hub-models[fastsam_s]) (1.11.4)\n",
            "Requirement already satisfied: seaborn>=0.11.0 in /usr/local/lib/python3.10/dist-packages (from ultralytics==8.0.193->qai-hub-models[fastsam_s]) (0.13.1)\n",
            "Requirement already satisfied: psutil in /usr/local/lib/python3.10/dist-packages (from ultralytics==8.0.193->qai-hub-models[fastsam_s]) (5.9.5)\n",
            "Requirement already satisfied: py-cpuinfo in /usr/local/lib/python3.10/dist-packages (from ultralytics==8.0.193->qai-hub-models[fastsam_s]) (9.0.0)\n",
            "Collecting thop>=0.1.1 (from ultralytics==8.0.193->qai-hub-models[fastsam_s])\n",
            "  Downloading thop-0.1.1.post2209072238-py3-none-any.whl (15 kB)\n",
            "Requirement already satisfied: setuptools in /usr/local/lib/python3.10/dist-packages (from nvidia-cublas-cu11==11.10.3.66->torch==1.13.1->qai-hub-models[fastsam_s]) (67.7.2)\n",
            "Requirement already satisfied: wheel in /usr/local/lib/python3.10/dist-packages (from nvidia-cublas-cu11==11.10.3.66->torch==1.13.1->qai-hub-models[fastsam_s]) (0.42.0)\n",
            "Requirement already satisfied: python-dateutil>=2.8.1 in /usr/local/lib/python3.10/dist-packages (from pandas->qai-hub-models[fastsam_s]) (2.8.2)\n",
            "Requirement already satisfied: pytz>=2020.1 in /usr/local/lib/python3.10/dist-packages (from pandas->qai-hub-models[fastsam_s]) (2023.4)\n",
            "Requirement already satisfied: deprecation in /usr/local/lib/python3.10/dist-packages (from qai-hub>=0.9.0->qai-hub-models[fastsam_s]) (2.1.0)\n",
            "Requirement already satisfied: protobuf<4,>=3.15 in /usr/local/lib/python3.10/dist-packages (from qai-hub>=0.9.0->qai-hub-models[fastsam_s]) (3.20.3)\n",
            "Requirement already satisfied: h5py<4,>=3.6.0 in /usr/local/lib/python3.10/dist-packages (from qai-hub>=0.9.0->qai-hub-models[fastsam_s]) (3.9.0)\n",
            "Requirement already satisfied: wcwidth in /usr/local/lib/python3.10/dist-packages (from prettytable->qai-hub-models[fastsam_s]) (0.2.13)\n",
            "Requirement already satisfied: charset-normalizer<4,>=2 in /usr/local/lib/python3.10/dist-packages (from requests->qai-hub-models[fastsam_s]) (3.3.2)\n",
            "Requirement already satisfied: idna<4,>=2.5 in /usr/local/lib/python3.10/dist-packages (from requests->qai-hub-models[fastsam_s]) (3.6)\n",
            "Requirement already satisfied: certifi>=2017.4.17 in /usr/local/lib/python3.10/dist-packages (from requests->qai-hub-models[fastsam_s]) (2024.2.2)\n",
            "Collecting gitdb<5,>=4.0.1 (from gitpython->qai-hub-models[fastsam_s])\n",
            "  Downloading gitdb-4.0.11-py3-none-any.whl (62 kB)\n",
            "\u001b[2K     \u001b[90m━━━━━━━━━━━━━━━━━━━━━━━━━━━━━━━━━━━━━━━━\u001b[0m \u001b[32m62.7/62.7 kB\u001b[0m \u001b[31m7.4 MB/s\u001b[0m eta \u001b[36m0:00:00\u001b[0m\n",
            "\u001b[?25hRequirement already satisfied: fsspec>=2023.5.0 in /usr/local/lib/python3.10/dist-packages (from huggingface-hub->qai-hub-models[fastsam_s]) (2023.6.0)\n",
            "Collecting jedi>=0.16 (from ipython->qai-hub-models[fastsam_s])\n",
            "  Downloading jedi-0.19.1-py2.py3-none-any.whl (1.6 MB)\n",
            "\u001b[2K     \u001b[90m━━━━━━━━━━━━━━━━━━━━━━━━━━━━━━━━━━━━━━━━\u001b[0m \u001b[32m1.6/1.6 MB\u001b[0m \u001b[31m58.8 MB/s\u001b[0m eta \u001b[36m0:00:00\u001b[0m\n",
            "\u001b[?25hRequirement already satisfied: decorator in /usr/local/lib/python3.10/dist-packages (from ipython->qai-hub-models[fastsam_s]) (4.4.2)\n",
            "Requirement already satisfied: pickleshare in /usr/local/lib/python3.10/dist-packages (from ipython->qai-hub-models[fastsam_s]) (0.7.5)\n",
            "Requirement already satisfied: traitlets>=4.2 in /usr/local/lib/python3.10/dist-packages (from ipython->qai-hub-models[fastsam_s]) (5.7.1)\n",
            "Requirement already satisfied: prompt-toolkit!=3.0.0,!=3.0.1,<3.1.0,>=2.0.0 in /usr/local/lib/python3.10/dist-packages (from ipython->qai-hub-models[fastsam_s]) (3.0.43)\n",
            "Requirement already satisfied: pygments in /usr/local/lib/python3.10/dist-packages (from ipython->qai-hub-models[fastsam_s]) (2.16.1)\n",
            "Requirement already satisfied: backcall in /usr/local/lib/python3.10/dist-packages (from ipython->qai-hub-models[fastsam_s]) (0.2.0)\n",
            "Requirement already satisfied: matplotlib-inline in /usr/local/lib/python3.10/dist-packages (from ipython->qai-hub-models[fastsam_s]) (0.1.6)\n",
            "Requirement already satisfied: pexpect>4.3 in /usr/local/lib/python3.10/dist-packages (from ipython->qai-hub-models[fastsam_s]) (4.9.0)\n",
            "Requirement already satisfied: contextlib2>=0.5.5 in /usr/local/lib/python3.10/dist-packages (from schema->qai-hub-models[fastsam_s]) (21.6.0)\n",
            "Collecting smmap<6,>=3.0.1 (from gitdb<5,>=4.0.1->gitpython->qai-hub-models[fastsam_s])\n",
            "  Downloading smmap-5.0.1-py3-none-any.whl (24 kB)\n",
            "Requirement already satisfied: parso<0.9.0,>=0.8.3 in /usr/local/lib/python3.10/dist-packages (from jedi>=0.16->ipython->qai-hub-models[fastsam_s]) (0.8.3)\n",
            "Requirement already satisfied: contourpy>=1.0.1 in /usr/local/lib/python3.10/dist-packages (from matplotlib>=3.3.0->ultralytics==8.0.193->qai-hub-models[fastsam_s]) (1.2.0)\n",
            "Requirement already satisfied: cycler>=0.10 in /usr/local/lib/python3.10/dist-packages (from matplotlib>=3.3.0->ultralytics==8.0.193->qai-hub-models[fastsam_s]) (0.12.1)\n",
            "Requirement already satisfied: fonttools>=4.22.0 in /usr/local/lib/python3.10/dist-packages (from matplotlib>=3.3.0->ultralytics==8.0.193->qai-hub-models[fastsam_s]) (4.49.0)\n",
            "Requirement already satisfied: kiwisolver>=1.0.1 in /usr/local/lib/python3.10/dist-packages (from matplotlib>=3.3.0->ultralytics==8.0.193->qai-hub-models[fastsam_s]) (1.4.5)\n",
            "Requirement already satisfied: pyparsing>=2.3.1 in /usr/local/lib/python3.10/dist-packages (from matplotlib>=3.3.0->ultralytics==8.0.193->qai-hub-models[fastsam_s]) (3.1.1)\n",
            "Requirement already satisfied: ptyprocess>=0.5 in /usr/local/lib/python3.10/dist-packages (from pexpect>4.3->ipython->qai-hub-models[fastsam_s]) (0.7.0)\n",
            "Requirement already satisfied: soupsieve>1.2 in /usr/local/lib/python3.10/dist-packages (from beautifulsoup4->gdown==4.7.1->qai-hub-models[fastsam_s]) (2.5)\n",
            "Requirement already satisfied: PySocks!=1.5.7,>=1.5.6 in /usr/local/lib/python3.10/dist-packages (from requests->qai-hub-models[fastsam_s]) (1.7.1)\n",
            "Installing collected packages: urllib3, smmap, schema, pytest, Pillow, nvidia-cuda-runtime-cu11, nvidia-cuda-nvrtc-cu11, nvidia-cublas-cu11, numpy, jedi, opencv-python, nvidia-cudnn-cu11, gitdb, torch, gitpython, torchvision, thop, gdown, ultralytics, qai-hub-models\n",
            "  Attempting uninstall: urllib3\n",
            "    Found existing installation: urllib3 2.0.7\n",
            "    Uninstalling urllib3-2.0.7:\n",
            "      Successfully uninstalled urllib3-2.0.7\n",
            "  Attempting uninstall: pytest\n",
            "    Found existing installation: pytest 7.4.4\n",
            "    Uninstalling pytest-7.4.4:\n",
            "      Successfully uninstalled pytest-7.4.4\n",
            "  Attempting uninstall: Pillow\n",
            "    Found existing installation: Pillow 9.4.0\n",
            "    Uninstalling Pillow-9.4.0:\n",
            "      Successfully uninstalled Pillow-9.4.0\n",
            "  Attempting uninstall: numpy\n",
            "    Found existing installation: numpy 1.25.2\n",
            "    Uninstalling numpy-1.25.2:\n",
            "      Successfully uninstalled numpy-1.25.2\n",
            "  Attempting uninstall: opencv-python\n",
            "    Found existing installation: opencv-python 4.8.0.76\n",
            "    Uninstalling opencv-python-4.8.0.76:\n",
            "      Successfully uninstalled opencv-python-4.8.0.76\n",
            "  Attempting uninstall: torch\n",
            "    Found existing installation: torch 2.1.0+cu121\n",
            "    Uninstalling torch-2.1.0+cu121:\n",
            "      Successfully uninstalled torch-2.1.0+cu121\n",
            "  Attempting uninstall: torchvision\n",
            "    Found existing installation: torchvision 0.16.0+cu121\n",
            "    Uninstalling torchvision-0.16.0+cu121:\n",
            "      Successfully uninstalled torchvision-0.16.0+cu121\n",
            "  Attempting uninstall: gdown\n",
            "    Found existing installation: gdown 4.7.3\n",
            "    Uninstalling gdown-4.7.3:\n",
            "      Successfully uninstalled gdown-4.7.3\n",
            "\u001b[31mERROR: pip's dependency resolver does not currently take into account all the packages that are installed. This behaviour is the source of the following dependency conflicts.\n",
            "chex 0.1.85 requires numpy>=1.24.1, but you have numpy 1.23.1 which is incompatible.\n",
            "tensorflow 2.15.0 requires numpy<2.0.0,>=1.23.5, but you have numpy 1.23.1 which is incompatible.\n",
            "torchaudio 2.1.0+cu121 requires torch==2.1.0, but you have torch 1.13.1 which is incompatible.\n",
            "torchdata 0.7.0 requires torch==2.1.0, but you have torch 1.13.1 which is incompatible.\n",
            "torchtext 0.16.0 requires torch==2.1.0, but you have torch 1.13.1 which is incompatible.\u001b[0m\u001b[31m\n",
            "\u001b[0mSuccessfully installed Pillow-10.0.1 gdown-4.7.1 gitdb-4.0.11 gitpython-3.1.42 jedi-0.19.1 numpy-1.23.1 nvidia-cublas-cu11-11.10.3.66 nvidia-cuda-nvrtc-cu11-11.7.99 nvidia-cuda-runtime-cu11-11.7.99 nvidia-cudnn-cu11-8.5.0.96 opencv-python-4.8.1.78 pytest-7.4.2 qai-hub-models-0.3.2 schema-0.7.5 smmap-5.0.1 thop-0.1.1.post2209072238 torch-1.13.1 torchvision-0.14.1 ultralytics-8.0.193 urllib3-1.26.18\n"
          ]
        },
        {
          "output_type": "display_data",
          "data": {
            "application/vnd.colab-display-data+json": {
              "pip_warning": {
                "packages": [
                  "PIL",
                  "numpy"
                ]
              },
              "id": "3296db055db94923b230cd7660878ca5"
            }
          },
          "metadata": {}
        }
      ]
    },
    {
      "cell_type": "code",
      "source": [
        "%run -m qai_hub_models.models.fastsam_s.demo"
      ],
      "metadata": {
        "colab": {
          "base_uri": "https://localhost:8080/",
          "height": 1000,
          "referenced_widgets": [
            "d1e2848847fc4c349833044e4ffebf49",
            "56bc0ba91fe14a01bea3381aa1c1bbb8",
            "ff2f76c2b35343ddb58c2f613fab9f6e",
            "807b069484fa45cd89f6256c68a049d1",
            "d46796cb016e46a588112bd832267156",
            "4087806f84f64b79a6737a3fa7ac05dc",
            "53a70ea90d944532ab8f80e47041ee05",
            "5964f7a6302a405596e9987caf85292a",
            "d1cf87e6de7243dcb4b3f37879420e3e",
            "0a6dd5ac302d4b41bfd39d0fde06d3f6",
            "13caefc682cb45f298dd63e15369d44b"
          ]
        },
        "id": "VeGlzbUCq-i8",
        "outputId": "2c8298e2-1c36-4070-b1e8-eef7106846df"
      },
      "execution_count": null,
      "outputs": [
        {
          "output_type": "stream",
          "name": "stderr",
          "text": [
            "Downloading https://github.com/ultralytics/assets/releases/download/v0.0.0/FastSAM-s.pt to 'FastSAM-s.pt'...\n"
          ]
        },
        {
          "output_type": "display_data",
          "data": {
            "text/plain": [
              "  0%|          | 0.00/22.7M [00:00<?, ?B/s]"
            ],
            "application/vnd.jupyter.widget-view+json": {
              "version_major": 2,
              "version_minor": 0,
              "model_id": "d1e2848847fc4c349833044e4ffebf49"
            }
          },
          "metadata": {}
        },
        {
          "output_type": "stream",
          "name": "stdout",
          "text": [
            "Downloading data at https://qaihub-public-assets.s3.us-west-2.amazonaws.com/qai-hub-models/models/fastsam_s/v1/image_640.jpg to /root/.qaihm/models/fastsam_s/v1/image_640.jpg... Done\n"
          ]
        },
        {
          "output_type": "stream",
          "name": "stderr",
          "text": [
            "\u001b[31m\u001b[1mrequirements:\u001b[0m Ultralytics requirement ['git+https://github.com/openai/CLIP.git'] not found, attempting AutoUpdate...\n",
            "Collecting git+https://github.com/openai/CLIP.git\n",
            "  Cloning https://github.com/openai/CLIP.git to /tmp/pip-req-build-txojqc3u\n",
            "  Resolved https://github.com/openai/CLIP.git to commit a1d071733d7111c9c014f024669f959182114e33\n",
            "  Preparing metadata (setup.py): started\n",
            "  Preparing metadata (setup.py): finished with status 'done'\n",
            "Collecting ftfy (from clip==1.0)\n",
            "  Downloading ftfy-6.1.3-py3-none-any.whl (53 kB)\n",
            "     ━━━━━━━━━━━━━━━━━━━━━━━━━━━━━━━━━━━━━━━━ 53.4/53.4 kB 1.9 MB/s eta 0:00:00\n",
            "Requirement already satisfied: regex in /usr/local/lib/python3.10/dist-packages (from clip==1.0) (2023.12.25)\n",
            "Requirement already satisfied: tqdm in /usr/local/lib/python3.10/dist-packages (from clip==1.0) (4.66.2)\n",
            "Requirement already satisfied: torch in /usr/local/lib/python3.10/dist-packages (from clip==1.0) (1.13.1)\n",
            "Requirement already satisfied: torchvision in /usr/local/lib/python3.10/dist-packages (from clip==1.0) (0.14.1)\n",
            "Requirement already satisfied: wcwidth<0.3.0,>=0.2.12 in /usr/local/lib/python3.10/dist-packages (from ftfy->clip==1.0) (0.2.13)\n",
            "Requirement already satisfied: typing-extensions in /usr/local/lib/python3.10/dist-packages (from torch->clip==1.0) (4.9.0)\n",
            "Requirement already satisfied: nvidia-cuda-runtime-cu11==11.7.99 in /usr/local/lib/python3.10/dist-packages (from torch->clip==1.0) (11.7.99)\n",
            "Requirement already satisfied: nvidia-cudnn-cu11==8.5.0.96 in /usr/local/lib/python3.10/dist-packages (from torch->clip==1.0) (8.5.0.96)\n",
            "Requirement already satisfied: nvidia-cublas-cu11==11.10.3.66 in /usr/local/lib/python3.10/dist-packages (from torch->clip==1.0) (11.10.3.66)\n",
            "Requirement already satisfied: nvidia-cuda-nvrtc-cu11==11.7.99 in /usr/local/lib/python3.10/dist-packages (from torch->clip==1.0) (11.7.99)\n",
            "Requirement already satisfied: setuptools in /usr/local/lib/python3.10/dist-packages (from nvidia-cublas-cu11==11.10.3.66->torch->clip==1.0) (67.7.2)\n",
            "Requirement already satisfied: wheel in /usr/local/lib/python3.10/dist-packages (from nvidia-cublas-cu11==11.10.3.66->torch->clip==1.0) (0.42.0)\n",
            "Requirement already satisfied: numpy in /usr/local/lib/python3.10/dist-packages (from torchvision->clip==1.0) (1.23.1)\n",
            "Requirement already satisfied: requests in /usr/local/lib/python3.10/dist-packages (from torchvision->clip==1.0) (2.31.0)\n",
            "Requirement already satisfied: pillow!=8.3.*,>=5.3.0 in /usr/local/lib/python3.10/dist-packages (from torchvision->clip==1.0) (10.0.1)\n",
            "Requirement already satisfied: charset-normalizer<4,>=2 in /usr/local/lib/python3.10/dist-packages (from requests->torchvision->clip==1.0) (3.3.2)\n",
            "Requirement already satisfied: idna<4,>=2.5 in /usr/local/lib/python3.10/dist-packages (from requests->torchvision->clip==1.0) (3.6)\n",
            "Requirement already satisfied: urllib3<3,>=1.21.1 in /usr/local/lib/python3.10/dist-packages (from requests->torchvision->clip==1.0) (1.26.18)\n",
            "Requirement already satisfied: certifi>=2017.4.17 in /usr/local/lib/python3.10/dist-packages (from requests->torchvision->clip==1.0) (2024.2.2)\n",
            "Building wheels for collected packages: clip\n",
            "  Building wheel for clip (setup.py): started\n",
            "  Building wheel for clip (setup.py): finished with status 'done'\n",
            "  Created wheel for clip: filename=clip-1.0-py3-none-any.whl size=1369497 sha256=b4636437c437fd69672563d104d21d5350deab517183996dbe64aed60cfde9d4\n",
            "  Stored in directory: /tmp/pip-ephem-wheel-cache-p3mnspx0/wheels/da/2b/4c/d6691fa9597aac8bb85d2ac13b112deb897d5b50f5ad9a37e4\n",
            "Successfully built clip\n",
            "Installing collected packages: ftfy, clip\n",
            "Successfully installed clip-1.0 ftfy-6.1.3\n",
            "\n",
            "\u001b[31m\u001b[1mrequirements:\u001b[0m AutoUpdate success ✅ 12.5s, installed 1 package: ['git+https://github.com/openai/CLIP.git']\n",
            "\u001b[31m\u001b[1mrequirements:\u001b[0m ⚠️ \u001b[1mRestart runtime or rerun command for updates to take effect\u001b[0m\n",
            "\n",
            "Saving  to /root/.qaihm/models/fastsam_s/v1/output.jpg: 100%|██████████| 1/1 [00:00<00:00,  1.30it/s]\n"
          ]
        },
        {
          "output_type": "display_data",
          "data": {
            "text/plain": [
              "<PIL.JpegImagePlugin.JpegImageFile image mode=RGB size=640x640>"
            ],
            "image/png": "[encoded data removed]"
          },
          "metadata": {}
        }
      ]
    },
    {
      "cell_type": "code",
      "source": [
        "!python -m qai_hub_models.models.fastsam_s.export"
      ],
      "metadata": {
        "colab": {
          "base_uri": "https://localhost:8080/"
        },
        "id": "dnbtztB4rfWa",
        "outputId": "f9dc504b-e446-4255-ae27-337a35e9768c"
      },
      "execution_count": null,
      "outputs": [
        {
          "output_type": "stream",
          "name": "stdout",
          "text": [
            "Optimizing model fastsam_s to run on-device.\n",
            "Uploading model: 100% 45.6M/45.6M [00:01<00:00, 35.5MB/s]\n",
            "Scheduled compile job (j1p31zng2) successfully. To see the status and results:\n",
            "    https://app.aihub.qualcomm.com/jobs/j1p31zng2/\n",
            "\n",
            "Profiling model fastsam_s on a hosted device.\n",
            "Waiting for compile job (j1p31zng2) completion. Type Ctrl+C to stop waiting at any time.\n",
            "    ✅ SUCCESS                          \u0007\n",
            "Scheduled profiling job (jwgonlkp8) successfully. To see the status and results:\n",
            "    https://app.aihub.qualcomm.com/jobs/jwgonlkp8/\n",
            "\n",
            "Running inference for fastsam_s on a hosted device with example inputs.\n",
            "Uploading dataset: 100% 4.23M/4.23M [00:00<00:00, 7.53MB/s]\n",
            "Scheduled inference job (j1pvrlr5x) successfully. To see the status and results:\n",
            "    https://app.aihub.qualcomm.com/jobs/j1pvrlr5x/\n",
            "\n",
            "job_j1p31zng2_optimized_tflite_mwn0jv3m8.tflite: 100% 45.1M/45.1M [00:01<00:00, 42.9MB/s]\n",
            "Waiting for profile job (jwgonlkp8) completion. Type Ctrl+C to stop waiting at any time.\n",
            "    ✅ SUCCESS                          \u0007\n",
            "\n",
            "------------------------------------------------------------\n",
            "Performance results on-device for Fastsam_S.\n",
            "------------------------------------------------------------\n",
            "Device                          : Samsung Galaxy S23 (13)\n",
            "Runtime                         : TFLITE                 \n",
            "Estimated inference time (ms)   : 13.0                   \n",
            "Estimated peak memory usage (MB): [0, 31]                \n",
            "Total # Ops                     : 288                    \n",
            "Compute Unit(s)                 : NPU (288 ops)          \n",
            "------------------------------------------------------------\n",
            "More details: https://app.aihub.qualcomm.com/jobs/jwgonlkp8/\n",
            "\n",
            "dataset-dv915g87l.h5: 100% 4.33M/4.33M [00:00<00:00, 15.6MB/s]\n",
            "\n",
            "Comparing on-device vs. local-cpu inference for Fastsam_S.\n",
            "+---------------+-------------------+--------+\n",
            "| output_name   | shape             |   psnr |\n",
            "+===============+===================+========+\n",
            "| output_0      | (1, 37, 8400)     |  74.47 |\n",
            "+---------------+-------------------+--------+\n",
            "| output_1      | (1, 65, 80, 80)   |  57.2  |\n",
            "+---------------+-------------------+--------+\n",
            "| output_2      | (1, 65, 40, 40)   |  58.23 |\n",
            "+---------------+-------------------+--------+\n",
            "| output_3      | (1, 65, 20, 20)   |  62.86 |\n",
            "+---------------+-------------------+--------+\n",
            "| output_4      | (1, 32, 8400)     |  62.54 |\n",
            "+---------------+-------------------+--------+\n",
            "| output_5      | (1, 32, 160, 160) |  62.04 |\n",
            "+---------------+-------------------+--------+\n",
            "\n",
            "- psnr: Peak Signal-to-Noise Ratio (PSNR). >30 dB is typically considered good.\n",
            "\n",
            "More details: https://app.aihub.qualcomm.com/jobs/j1pvrlr5x/\n",
            "\n",
            "Run this model on a hosted device on sample data using:\n",
            "python /usr/local/lib/python3.10/dist-packages/qai_hub_models/models/fastsam_s/demo.py --on-device --hub-model-id mwn0jv3m8 --device \"Samsung Galaxy S23\"\n",
            "\n"
          ]
        }
      ]
    },
    {
      "cell_type": "markdown",
      "source": [
        "### Llama Model"
      ],
      "metadata": {
        "id": "ZPztkotNB588"
      }
    },
    {
      "cell_type": "code",
      "source": [
        "!pip install \"qai_hub_models[llama_v2_7b_chat_quantized]\""
      ],
      "metadata": {
        "colab": {
          "base_uri": "https://localhost:8080/",
          "height": 1000
        },
        "id": "z434eU3YurOe",
        "outputId": "0339f93c-aab4-4764-b65b-ca6b063a79ea"
      },
      "execution_count": 2,
      "outputs": [
        {
          "output_type": "stream",
          "name": "stdout",
          "text": [
            "Collecting qai_hub_models[llama_v2_7b_chat_quantized]\n",
            "  Downloading qai_hub_models-0.8.0-py3-none-any.whl (1.3 MB)\n",
            "\u001b[2K     \u001b[90m━━━━━━━━━━━━━━━━━━━━━━━━━━━━━━━━━━━━━━━━\u001b[0m \u001b[32m1.3/1.3 MB\u001b[0m \u001b[31m13.4 MB/s\u001b[0m eta \u001b[36m0:00:00\u001b[0m\n",
            "\u001b[?25hCollecting Pillow==10.0.1 (from qai_hub_models[llama_v2_7b_chat_quantized])\n",
            "  Downloading Pillow-10.0.1-cp310-cp310-manylinux_2_28_x86_64.whl (3.6 MB)\n",
            "\u001b[2K     \u001b[90m━━━━━━━━━━━━━━━━━━━━━━━━━━━━━━━━━━━━━━━━\u001b[0m \u001b[32m3.6/3.6 MB\u001b[0m \u001b[31m50.8 MB/s\u001b[0m eta \u001b[36m0:00:00\u001b[0m\n",
            "\u001b[?25hRequirement already satisfied: deprecation==2.1.0 in /usr/local/lib/python3.10/dist-packages (from qai_hub_models[llama_v2_7b_chat_quantized]) (2.1.0)\n",
            "Requirement already satisfied: fsspec==2023.6.0 in /usr/local/lib/python3.10/dist-packages (from qai_hub_models[llama_v2_7b_chat_quantized]) (2023.6.0)\n",
            "Collecting gdown==4.7.1 (from qai_hub_models[llama_v2_7b_chat_quantized])\n",
            "  Downloading gdown-4.7.1-py3-none-any.whl (15 kB)\n",
            "Collecting gitpython==3.1.42 (from qai_hub_models[llama_v2_7b_chat_quantized])\n",
            "  Downloading GitPython-3.1.42-py3-none-any.whl (195 kB)\n",
            "\u001b[2K     \u001b[90m━━━━━━━━━━━━━━━━━━━━━━━━━━━━━━━━━━━━━━━━\u001b[0m \u001b[32m195.4/195.4 kB\u001b[0m \u001b[31m28.2 MB/s\u001b[0m eta \u001b[36m0:00:00\u001b[0m\n",
            "\u001b[?25hCollecting huggingface-hub==0.23.1 (from qai_hub_models[llama_v2_7b_chat_quantized])\n",
            "  Downloading huggingface_hub-0.23.1-py3-none-any.whl (401 kB)\n",
            "\u001b[2K     \u001b[90m━━━━━━━━━━━━━━━━━━━━━━━━━━━━━━━━━━━━━━━━\u001b[0m \u001b[32m401.3/401.3 kB\u001b[0m \u001b[31m40.5 MB/s\u001b[0m eta \u001b[36m0:00:00\u001b[0m\n",
            "\u001b[?25hCollecting ipython==8.12.3 (from qai_hub_models[llama_v2_7b_chat_quantized])\n",
            "  Downloading ipython-8.12.3-py3-none-any.whl (798 kB)\n",
            "\u001b[2K     \u001b[90m━━━━━━━━━━━━━━━━━━━━━━━━━━━━━━━━━━━━━━━━\u001b[0m \u001b[32m798.3/798.3 kB\u001b[0m \u001b[31m65.6 MB/s\u001b[0m eta \u001b[36m0:00:00\u001b[0m\n",
            "\u001b[?25hCollecting matplotlib==3.7.5 (from qai_hub_models[llama_v2_7b_chat_quantized])\n",
            "  Downloading matplotlib-3.7.5-cp310-cp310-manylinux_2_17_x86_64.manylinux2014_x86_64.whl (11.6 MB)\n",
            "\u001b[2K     \u001b[90m━━━━━━━━━━━━━━━━━━━━━━━━━━━━━━━━━━━━━━━━\u001b[0m \u001b[32m11.6/11.6 MB\u001b[0m \u001b[31m71.2 MB/s\u001b[0m eta \u001b[36m0:00:00\u001b[0m\n",
            "\u001b[?25hCollecting numpy==1.23.1 (from qai_hub_models[llama_v2_7b_chat_quantized])\n",
            "  Downloading numpy-1.23.1-cp310-cp310-manylinux_2_17_x86_64.manylinux2014_x86_64.whl (17.0 MB)\n",
            "\u001b[2K     \u001b[90m━━━━━━━━━━━━━━━━━━━━━━━━━━━━━━━━━━━━━━━━\u001b[0m \u001b[32m17.0/17.0 MB\u001b[0m \u001b[31m69.8 MB/s\u001b[0m eta \u001b[36m0:00:00\u001b[0m\n",
            "\u001b[?25hCollecting onnx==1.14.1 (from qai_hub_models[llama_v2_7b_chat_quantized])\n",
            "  Downloading onnx-1.14.1-cp310-cp310-manylinux_2_17_x86_64.manylinux2014_x86_64.whl (14.6 MB)\n",
            "\u001b[2K     \u001b[90m━━━━━━━━━━━━━━━━━━━━━━━━━━━━━━━━━━━━━━━━\u001b[0m \u001b[32m14.6/14.6 MB\u001b[0m \u001b[31m76.7 MB/s\u001b[0m eta \u001b[36m0:00:00\u001b[0m\n",
            "\u001b[?25hCollecting opencv-python==4.8.1.78 (from qai_hub_models[llama_v2_7b_chat_quantized])\n",
            "  Downloading opencv_python-4.8.1.78-cp37-abi3-manylinux_2_17_x86_64.manylinux2014_x86_64.whl (61.7 MB)\n",
            "\u001b[2K     \u001b[90m━━━━━━━━━━━━━━━━━━━━━━━━━━━━━━━━━━━━━━━━\u001b[0m \u001b[32m61.7/61.7 MB\u001b[0m \u001b[31m9.1 MB/s\u001b[0m eta \u001b[36m0:00:00\u001b[0m\n",
            "\u001b[?25hCollecting packaging==23.2 (from qai_hub_models[llama_v2_7b_chat_quantized])\n",
            "  Downloading packaging-23.2-py3-none-any.whl (53 kB)\n",
            "\u001b[2K     \u001b[90m━━━━━━━━━━━━━━━━━━━━━━━━━━━━━━━━━━━━━━━━\u001b[0m \u001b[32m53.0/53.0 kB\u001b[0m \u001b[31m7.1 MB/s\u001b[0m eta \u001b[36m0:00:00\u001b[0m\n",
            "\u001b[?25hCollecting pandas==1.5.3 (from qai_hub_models[llama_v2_7b_chat_quantized])\n",
            "  Downloading pandas-1.5.3-cp310-cp310-manylinux_2_17_x86_64.manylinux2014_x86_64.whl (12.1 MB)\n",
            "\u001b[2K     \u001b[90m━━━━━━━━━━━━━━━━━━━━━━━━━━━━━━━━━━━━━━━━\u001b[0m \u001b[32m12.1/12.1 MB\u001b[0m \u001b[31m78.5 MB/s\u001b[0m eta \u001b[36m0:00:00\u001b[0m\n",
            "\u001b[?25hCollecting prettytable==3.9.0 (from qai_hub_models[llama_v2_7b_chat_quantized])\n",
            "  Downloading prettytable-3.9.0-py3-none-any.whl (27 kB)\n",
            "Collecting protobuf==3.20.2 (from qai_hub_models[llama_v2_7b_chat_quantized])\n",
            "  Downloading protobuf-3.20.2-cp310-cp310-manylinux_2_12_x86_64.manylinux2010_x86_64.whl (1.1 MB)\n",
            "\u001b[2K     \u001b[90m━━━━━━━━━━━━━━━━━━━━━━━━━━━━━━━━━━━━━━━━\u001b[0m \u001b[32m1.1/1.1 MB\u001b[0m \u001b[31m69.1 MB/s\u001b[0m eta \u001b[36m0:00:00\u001b[0m\n",
            "\u001b[?25hCollecting pytest==7.4.2 (from qai_hub_models[llama_v2_7b_chat_quantized])\n",
            "  Downloading pytest-7.4.2-py3-none-any.whl (324 kB)\n",
            "\u001b[2K     \u001b[90m━━━━━━━━━━━━━━━━━━━━━━━━━━━━━━━━━━━━━━━━\u001b[0m \u001b[32m324.5/324.5 kB\u001b[0m \u001b[31m39.3 MB/s\u001b[0m eta \u001b[36m0:00:00\u001b[0m\n",
            "\u001b[?25hRequirement already satisfied: pyyaml==6.0.1 in /usr/local/lib/python3.10/dist-packages (from qai_hub_models[llama_v2_7b_chat_quantized]) (6.0.1)\n",
            "Requirement already satisfied: requests-toolbelt==1.0.0 in /usr/local/lib/python3.10/dist-packages (from qai_hub_models[llama_v2_7b_chat_quantized]) (1.0.0)\n",
            "Collecting schema==0.7.5 (from qai_hub_models[llama_v2_7b_chat_quantized])\n",
            "  Downloading schema-0.7.5-py2.py3-none-any.whl (17 kB)\n",
            "Collecting scipy==1.8.1 (from qai_hub_models[llama_v2_7b_chat_quantized])\n",
            "  Downloading scipy-1.8.1-cp310-cp310-manylinux_2_17_x86_64.manylinux2014_x86_64.whl (42.2 MB)\n",
            "\u001b[2K     \u001b[90m━━━━━━━━━━━━━━━━━━━━━━━━━━━━━━━━━━━━━━━━\u001b[0m \u001b[32m42.2/42.2 MB\u001b[0m \u001b[31m12.3 MB/s\u001b[0m eta \u001b[36m0:00:00\u001b[0m\n",
            "\u001b[?25hRequirement already satisfied: tabulate==0.9.0 in /usr/local/lib/python3.10/dist-packages (from qai_hub_models[llama_v2_7b_chat_quantized]) (0.9.0)\n",
            "Collecting torch==1.13.1 (from qai_hub_models[llama_v2_7b_chat_quantized])\n",
            "  Downloading torch-1.13.1-cp310-cp310-manylinux1_x86_64.whl (887.5 MB)\n",
            "\u001b[2K     \u001b[90m━━━━━━━━━━━━━━━━━━━━━━━━━━━━━━━━━━━━━━━━\u001b[0m \u001b[32m887.5/887.5 MB\u001b[0m \u001b[31m1.0 MB/s\u001b[0m eta \u001b[36m0:00:00\u001b[0m\n",
            "\u001b[?25hCollecting torchvision==0.14.1 (from qai_hub_models[llama_v2_7b_chat_quantized])\n",
            "  Downloading torchvision-0.14.1-cp310-cp310-manylinux1_x86_64.whl (24.2 MB)\n",
            "\u001b[2K     \u001b[90m━━━━━━━━━━━━━━━━━━━━━━━━━━━━━━━━━━━━━━━━\u001b[0m \u001b[32m24.2/24.2 MB\u001b[0m \u001b[31m63.8 MB/s\u001b[0m eta \u001b[36m0:00:00\u001b[0m\n",
            "\u001b[?25hCollecting typing-extensions==4.5.0 (from qai_hub_models[llama_v2_7b_chat_quantized])\n",
            "  Downloading typing_extensions-4.5.0-py3-none-any.whl (27 kB)\n",
            "Collecting tqdm==4.66.2 (from qai_hub_models[llama_v2_7b_chat_quantized])\n",
            "  Downloading tqdm-4.66.2-py3-none-any.whl (78 kB)\n",
            "\u001b[2K     \u001b[90m━━━━━━━━━━━━━━━━━━━━━━━━━━━━━━━━━━━━━━━━\u001b[0m \u001b[32m78.3/78.3 kB\u001b[0m \u001b[31m13.6 MB/s\u001b[0m eta \u001b[36m0:00:00\u001b[0m\n",
            "\u001b[?25hCollecting urllib3==1.26.18 (from qai_hub_models[llama_v2_7b_chat_quantized])\n",
            "  Downloading urllib3-1.26.18-py2.py3-none-any.whl (143 kB)\n",
            "\u001b[2K     \u001b[90m━━━━━━━━━━━━━━━━━━━━━━━━━━━━━━━━━━━━━━━━\u001b[0m \u001b[32m143.8/143.8 kB\u001b[0m \u001b[31m21.8 MB/s\u001b[0m eta \u001b[36m0:00:00\u001b[0m\n",
            "\u001b[?25hRequirement already satisfied: qai-hub>=0.10.0 in /usr/local/lib/python3.10/dist-packages (from qai_hub_models[llama_v2_7b_chat_quantized]) (0.12.0)\n",
            "Collecting transformers==4.41.1 (from qai_hub_models[llama_v2_7b_chat_quantized])\n",
            "  Downloading transformers-4.41.1-py3-none-any.whl (9.1 MB)\n",
            "\u001b[2K     \u001b[90m━━━━━━━━━━━━━━━━━━━━━━━━━━━━━━━━━━━━━━━━\u001b[0m \u001b[32m9.1/9.1 MB\u001b[0m \u001b[31m102.6 MB/s\u001b[0m eta \u001b[36m0:00:00\u001b[0m\n",
            "\u001b[?25hCollecting sentencepiece==0.2.0 (from qai_hub_models[llama_v2_7b_chat_quantized])\n",
            "  Downloading sentencepiece-0.2.0-cp310-cp310-manylinux_2_17_x86_64.manylinux2014_x86_64.whl (1.3 MB)\n",
            "\u001b[2K     \u001b[90m━━━━━━━━━━━━━━━━━━━━━━━━━━━━━━━━━━━━━━━━\u001b[0m \u001b[32m1.3/1.3 MB\u001b[0m \u001b[31m73.0 MB/s\u001b[0m eta \u001b[36m0:00:00\u001b[0m\n",
            "\u001b[?25hRequirement already satisfied: filelock in /usr/local/lib/python3.10/dist-packages (from gdown==4.7.1->qai_hub_models[llama_v2_7b_chat_quantized]) (3.15.3)\n",
            "Requirement already satisfied: requests[socks] in /usr/local/lib/python3.10/dist-packages (from gdown==4.7.1->qai_hub_models[llama_v2_7b_chat_quantized]) (2.31.0)\n",
            "Requirement already satisfied: six in /usr/local/lib/python3.10/dist-packages (from gdown==4.7.1->qai_hub_models[llama_v2_7b_chat_quantized]) (1.16.0)\n",
            "Requirement already satisfied: beautifulsoup4 in /usr/local/lib/python3.10/dist-packages (from gdown==4.7.1->qai_hub_models[llama_v2_7b_chat_quantized]) (4.12.3)\n",
            "Collecting gitdb<5,>=4.0.1 (from gitpython==3.1.42->qai_hub_models[llama_v2_7b_chat_quantized])\n",
            "  Downloading gitdb-4.0.11-py3-none-any.whl (62 kB)\n",
            "\u001b[2K     \u001b[90m━━━━━━━━━━━━━━━━━━━━━━━━━━━━━━━━━━━━━━━━\u001b[0m \u001b[32m62.7/62.7 kB\u001b[0m \u001b[31m9.4 MB/s\u001b[0m eta \u001b[36m0:00:00\u001b[0m\n",
            "\u001b[?25hRequirement already satisfied: backcall in /usr/local/lib/python3.10/dist-packages (from ipython==8.12.3->qai_hub_models[llama_v2_7b_chat_quantized]) (0.2.0)\n",
            "Requirement already satisfied: decorator in /usr/local/lib/python3.10/dist-packages (from ipython==8.12.3->qai_hub_models[llama_v2_7b_chat_quantized]) (4.4.2)\n",
            "Collecting jedi>=0.16 (from ipython==8.12.3->qai_hub_models[llama_v2_7b_chat_quantized])\n",
            "  Downloading jedi-0.19.1-py2.py3-none-any.whl (1.6 MB)\n",
            "\u001b[2K     \u001b[90m━━━━━━━━━━━━━━━━━━━━━━━━━━━━━━━━━━━━━━━━\u001b[0m \u001b[32m1.6/1.6 MB\u001b[0m \u001b[31m83.6 MB/s\u001b[0m eta \u001b[36m0:00:00\u001b[0m\n",
            "\u001b[?25hRequirement already satisfied: matplotlib-inline in /usr/local/lib/python3.10/dist-packages (from ipython==8.12.3->qai_hub_models[llama_v2_7b_chat_quantized]) (0.1.7)\n",
            "Requirement already satisfied: pickleshare in /usr/local/lib/python3.10/dist-packages (from ipython==8.12.3->qai_hub_models[llama_v2_7b_chat_quantized]) (0.7.5)\n",
            "Requirement already satisfied: prompt-toolkit!=3.0.37,<3.1.0,>=3.0.30 in /usr/local/lib/python3.10/dist-packages (from ipython==8.12.3->qai_hub_models[llama_v2_7b_chat_quantized]) (3.0.47)\n",
            "Requirement already satisfied: pygments>=2.4.0 in /usr/local/lib/python3.10/dist-packages (from ipython==8.12.3->qai_hub_models[llama_v2_7b_chat_quantized]) (2.16.1)\n",
            "Collecting stack-data (from ipython==8.12.3->qai_hub_models[llama_v2_7b_chat_quantized])\n",
            "  Downloading stack_data-0.6.3-py3-none-any.whl (24 kB)\n",
            "Requirement already satisfied: traitlets>=5 in /usr/local/lib/python3.10/dist-packages (from ipython==8.12.3->qai_hub_models[llama_v2_7b_chat_quantized]) (5.7.1)\n",
            "Requirement already satisfied: pexpect>4.3 in /usr/local/lib/python3.10/dist-packages (from ipython==8.12.3->qai_hub_models[llama_v2_7b_chat_quantized]) (4.9.0)\n",
            "Requirement already satisfied: contourpy>=1.0.1 in /usr/local/lib/python3.10/dist-packages (from matplotlib==3.7.5->qai_hub_models[llama_v2_7b_chat_quantized]) (1.2.1)\n",
            "Requirement already satisfied: cycler>=0.10 in /usr/local/lib/python3.10/dist-packages (from matplotlib==3.7.5->qai_hub_models[llama_v2_7b_chat_quantized]) (0.12.1)\n",
            "Requirement already satisfied: fonttools>=4.22.0 in /usr/local/lib/python3.10/dist-packages (from matplotlib==3.7.5->qai_hub_models[llama_v2_7b_chat_quantized]) (4.53.0)\n",
            "Requirement already satisfied: kiwisolver>=1.0.1 in /usr/local/lib/python3.10/dist-packages (from matplotlib==3.7.5->qai_hub_models[llama_v2_7b_chat_quantized]) (1.4.5)\n",
            "Requirement already satisfied: pyparsing>=2.3.1 in /usr/local/lib/python3.10/dist-packages (from matplotlib==3.7.5->qai_hub_models[llama_v2_7b_chat_quantized]) (3.1.2)\n",
            "Requirement already satisfied: python-dateutil>=2.7 in /usr/local/lib/python3.10/dist-packages (from matplotlib==3.7.5->qai_hub_models[llama_v2_7b_chat_quantized]) (2.8.2)\n",
            "Requirement already satisfied: pytz>=2020.1 in /usr/local/lib/python3.10/dist-packages (from pandas==1.5.3->qai_hub_models[llama_v2_7b_chat_quantized]) (2023.4)\n",
            "Requirement already satisfied: wcwidth in /usr/local/lib/python3.10/dist-packages (from prettytable==3.9.0->qai_hub_models[llama_v2_7b_chat_quantized]) (0.2.13)\n",
            "Requirement already satisfied: iniconfig in /usr/local/lib/python3.10/dist-packages (from pytest==7.4.2->qai_hub_models[llama_v2_7b_chat_quantized]) (2.0.0)\n",
            "Requirement already satisfied: pluggy<2.0,>=0.12 in /usr/local/lib/python3.10/dist-packages (from pytest==7.4.2->qai_hub_models[llama_v2_7b_chat_quantized]) (1.5.0)\n",
            "Requirement already satisfied: exceptiongroup>=1.0.0rc8 in /usr/local/lib/python3.10/dist-packages (from pytest==7.4.2->qai_hub_models[llama_v2_7b_chat_quantized]) (1.2.1)\n",
            "Requirement already satisfied: tomli>=1.0.0 in /usr/local/lib/python3.10/dist-packages (from pytest==7.4.2->qai_hub_models[llama_v2_7b_chat_quantized]) (2.0.1)\n",
            "Requirement already satisfied: contextlib2>=0.5.5 in /usr/local/lib/python3.10/dist-packages (from schema==0.7.5->qai_hub_models[llama_v2_7b_chat_quantized]) (21.6.0)\n",
            "Collecting nvidia-cuda-runtime-cu11==11.7.99 (from torch==1.13.1->qai_hub_models[llama_v2_7b_chat_quantized])\n",
            "  Downloading nvidia_cuda_runtime_cu11-11.7.99-py3-none-manylinux1_x86_64.whl (849 kB)\n",
            "\u001b[2K     \u001b[90m━━━━━━━━━━━━━━━━━━━━━━━━━━━━━━━━━━━━━━━━\u001b[0m \u001b[32m849.3/849.3 kB\u001b[0m \u001b[31m66.5 MB/s\u001b[0m eta \u001b[36m0:00:00\u001b[0m\n",
            "\u001b[?25hCollecting nvidia-cudnn-cu11==8.5.0.96 (from torch==1.13.1->qai_hub_models[llama_v2_7b_chat_quantized])\n",
            "  Downloading nvidia_cudnn_cu11-8.5.0.96-2-py3-none-manylinux1_x86_64.whl (557.1 MB)\n",
            "\u001b[2K     \u001b[90m━━━━━━━━━━━━━━━━━━━━━━━━━━━━━━━━━━━━━━━━\u001b[0m \u001b[32m557.1/557.1 MB\u001b[0m \u001b[31m1.8 MB/s\u001b[0m eta \u001b[36m0:00:00\u001b[0m\n",
            "\u001b[?25hCollecting nvidia-cublas-cu11==11.10.3.66 (from torch==1.13.1->qai_hub_models[llama_v2_7b_chat_quantized])\n",
            "  Downloading nvidia_cublas_cu11-11.10.3.66-py3-none-manylinux1_x86_64.whl (317.1 MB)\n",
            "\u001b[2K     \u001b[90m━━━━━━━━━━━━━━━━━━━━━━━━━━━━━━━━━━━━━━━━\u001b[0m \u001b[32m317.1/317.1 MB\u001b[0m \u001b[31m1.7 MB/s\u001b[0m eta \u001b[36m0:00:00\u001b[0m\n",
            "\u001b[?25hCollecting nvidia-cuda-nvrtc-cu11==11.7.99 (from torch==1.13.1->qai_hub_models[llama_v2_7b_chat_quantized])\n",
            "  Downloading nvidia_cuda_nvrtc_cu11-11.7.99-2-py3-none-manylinux1_x86_64.whl (21.0 MB)\n",
            "\u001b[2K     \u001b[90m━━━━━━━━━━━━━━━━━━━━━━━━━━━━━━━━━━━━━━━━\u001b[0m \u001b[32m21.0/21.0 MB\u001b[0m \u001b[31m72.5 MB/s\u001b[0m eta \u001b[36m0:00:00\u001b[0m\n",
            "\u001b[?25hRequirement already satisfied: regex!=2019.12.17 in /usr/local/lib/python3.10/dist-packages (from transformers==4.41.1->qai_hub_models[llama_v2_7b_chat_quantized]) (2024.5.15)\n",
            "Requirement already satisfied: tokenizers<0.20,>=0.19 in /usr/local/lib/python3.10/dist-packages (from transformers==4.41.1->qai_hub_models[llama_v2_7b_chat_quantized]) (0.19.1)\n",
            "Requirement already satisfied: safetensors>=0.4.1 in /usr/local/lib/python3.10/dist-packages (from transformers==4.41.1->qai_hub_models[llama_v2_7b_chat_quantized]) (0.4.3)\n",
            "Requirement already satisfied: setuptools in /usr/local/lib/python3.10/dist-packages (from nvidia-cublas-cu11==11.10.3.66->torch==1.13.1->qai_hub_models[llama_v2_7b_chat_quantized]) (67.7.2)\n",
            "Requirement already satisfied: wheel in /usr/local/lib/python3.10/dist-packages (from nvidia-cublas-cu11==11.10.3.66->torch==1.13.1->qai_hub_models[llama_v2_7b_chat_quantized]) (0.43.0)\n",
            "Requirement already satisfied: h5py<4,>=2.10.0 in /usr/local/lib/python3.10/dist-packages (from qai-hub>=0.10.0->qai_hub_models[llama_v2_7b_chat_quantized]) (3.9.0)\n",
            "Collecting smmap<6,>=3.0.1 (from gitdb<5,>=4.0.1->gitpython==3.1.42->qai_hub_models[llama_v2_7b_chat_quantized])\n",
            "  Downloading smmap-5.0.1-py3-none-any.whl (24 kB)\n",
            "Requirement already satisfied: parso<0.9.0,>=0.8.3 in /usr/local/lib/python3.10/dist-packages (from jedi>=0.16->ipython==8.12.3->qai_hub_models[llama_v2_7b_chat_quantized]) (0.8.4)\n",
            "Requirement already satisfied: ptyprocess>=0.5 in /usr/local/lib/python3.10/dist-packages (from pexpect>4.3->ipython==8.12.3->qai_hub_models[llama_v2_7b_chat_quantized]) (0.7.0)\n",
            "Requirement already satisfied: charset-normalizer<4,>=2 in /usr/local/lib/python3.10/dist-packages (from requests[socks]->gdown==4.7.1->qai_hub_models[llama_v2_7b_chat_quantized]) (3.3.2)\n",
            "Requirement already satisfied: idna<4,>=2.5 in /usr/local/lib/python3.10/dist-packages (from requests[socks]->gdown==4.7.1->qai_hub_models[llama_v2_7b_chat_quantized]) (3.7)\n",
            "Requirement already satisfied: certifi>=2017.4.17 in /usr/local/lib/python3.10/dist-packages (from requests[socks]->gdown==4.7.1->qai_hub_models[llama_v2_7b_chat_quantized]) (2024.6.2)\n",
            "Requirement already satisfied: soupsieve>1.2 in /usr/local/lib/python3.10/dist-packages (from beautifulsoup4->gdown==4.7.1->qai_hub_models[llama_v2_7b_chat_quantized]) (2.5)\n",
            "Requirement already satisfied: PySocks!=1.5.7,>=1.5.6 in /usr/local/lib/python3.10/dist-packages (from requests[socks]->gdown==4.7.1->qai_hub_models[llama_v2_7b_chat_quantized]) (1.7.1)\n",
            "Collecting executing>=1.2.0 (from stack-data->ipython==8.12.3->qai_hub_models[llama_v2_7b_chat_quantized])\n",
            "  Downloading executing-2.0.1-py2.py3-none-any.whl (24 kB)\n",
            "Collecting asttokens>=2.1.0 (from stack-data->ipython==8.12.3->qai_hub_models[llama_v2_7b_chat_quantized])\n",
            "  Downloading asttokens-2.4.1-py2.py3-none-any.whl (27 kB)\n",
            "Collecting pure-eval (from stack-data->ipython==8.12.3->qai_hub_models[llama_v2_7b_chat_quantized])\n",
            "  Downloading pure_eval-0.2.2-py3-none-any.whl (11 kB)\n",
            "Installing collected packages: sentencepiece, pure-eval, urllib3, typing-extensions, tqdm, smmap, schema, protobuf, prettytable, Pillow, packaging, nvidia-cuda-runtime-cu11, nvidia-cuda-nvrtc-cu11, nvidia-cublas-cu11, numpy, jedi, executing, asttokens, stack-data, scipy, pytest, pandas, opencv-python, onnx, nvidia-cudnn-cu11, gitdb, torch, matplotlib, ipython, huggingface-hub, gitpython, torchvision, gdown, transformers, qai_hub_models\n",
            "  Attempting uninstall: sentencepiece\n",
            "    Found existing installation: sentencepiece 0.1.99\n",
            "    Uninstalling sentencepiece-0.1.99:\n",
            "      Successfully uninstalled sentencepiece-0.1.99\n",
            "  Attempting uninstall: urllib3\n",
            "    Found existing installation: urllib3 2.0.7\n",
            "    Uninstalling urllib3-2.0.7:\n",
            "      Successfully uninstalled urllib3-2.0.7\n",
            "  Attempting uninstall: typing-extensions\n",
            "    Found existing installation: typing_extensions 4.12.2\n",
            "    Uninstalling typing_extensions-4.12.2:\n",
            "      Successfully uninstalled typing_extensions-4.12.2\n",
            "  Attempting uninstall: tqdm\n",
            "    Found existing installation: tqdm 4.66.4\n",
            "    Uninstalling tqdm-4.66.4:\n",
            "      Successfully uninstalled tqdm-4.66.4\n",
            "  Attempting uninstall: protobuf\n",
            "    Found existing installation: protobuf 3.20.3\n",
            "    Uninstalling protobuf-3.20.3:\n",
            "      Successfully uninstalled protobuf-3.20.3\n",
            "  Attempting uninstall: prettytable\n",
            "    Found existing installation: prettytable 3.10.0\n",
            "    Uninstalling prettytable-3.10.0:\n",
            "      Successfully uninstalled prettytable-3.10.0\n",
            "  Attempting uninstall: Pillow\n",
            "    Found existing installation: Pillow 9.4.0\n",
            "    Uninstalling Pillow-9.4.0:\n",
            "      Successfully uninstalled Pillow-9.4.0\n",
            "  Attempting uninstall: packaging\n",
            "    Found existing installation: packaging 24.1\n",
            "    Uninstalling packaging-24.1:\n",
            "      Successfully uninstalled packaging-24.1\n",
            "  Attempting uninstall: numpy\n",
            "    Found existing installation: numpy 1.25.2\n",
            "    Uninstalling numpy-1.25.2:\n",
            "      Successfully uninstalled numpy-1.25.2\n",
            "  Attempting uninstall: scipy\n",
            "    Found existing installation: scipy 1.11.4\n",
            "    Uninstalling scipy-1.11.4:\n",
            "      Successfully uninstalled scipy-1.11.4\n",
            "  Attempting uninstall: pytest\n",
            "    Found existing installation: pytest 7.4.4\n",
            "    Uninstalling pytest-7.4.4:\n",
            "      Successfully uninstalled pytest-7.4.4\n",
            "  Attempting uninstall: pandas\n",
            "    Found existing installation: pandas 2.0.3\n",
            "    Uninstalling pandas-2.0.3:\n",
            "      Successfully uninstalled pandas-2.0.3\n",
            "  Attempting uninstall: opencv-python\n",
            "    Found existing installation: opencv-python 4.8.0.76\n",
            "    Uninstalling opencv-python-4.8.0.76:\n",
            "      Successfully uninstalled opencv-python-4.8.0.76\n",
            "  Attempting uninstall: torch\n",
            "    Found existing installation: torch 2.3.0+cu121\n",
            "    Uninstalling torch-2.3.0+cu121:\n",
            "      Successfully uninstalled torch-2.3.0+cu121\n",
            "  Attempting uninstall: matplotlib\n",
            "    Found existing installation: matplotlib 3.7.1\n",
            "    Uninstalling matplotlib-3.7.1:\n",
            "      Successfully uninstalled matplotlib-3.7.1\n",
            "  Attempting uninstall: ipython\n",
            "    Found existing installation: ipython 7.34.0\n",
            "    Uninstalling ipython-7.34.0:\n",
            "      Successfully uninstalled ipython-7.34.0\n",
            "  Attempting uninstall: huggingface-hub\n",
            "    Found existing installation: huggingface-hub 0.23.4\n",
            "    Uninstalling huggingface-hub-0.23.4:\n",
            "      Successfully uninstalled huggingface-hub-0.23.4\n",
            "  Attempting uninstall: torchvision\n",
            "    Found existing installation: torchvision 0.18.0+cu121\n",
            "    Uninstalling torchvision-0.18.0+cu121:\n",
            "      Successfully uninstalled torchvision-0.18.0+cu121\n",
            "  Attempting uninstall: gdown\n",
            "    Found existing installation: gdown 5.1.0\n",
            "    Uninstalling gdown-5.1.0:\n",
            "      Successfully uninstalled gdown-5.1.0\n",
            "  Attempting uninstall: transformers\n",
            "    Found existing installation: transformers 4.41.2\n",
            "    Uninstalling transformers-4.41.2:\n",
            "      Successfully uninstalled transformers-4.41.2\n",
            "\u001b[31mERROR: pip's dependency resolver does not currently take into account all the packages that are installed. This behaviour is the source of the following dependency conflicts.\n",
            "sqlalchemy 2.0.31 requires typing-extensions>=4.6.0, but you have typing-extensions 4.5.0 which is incompatible.\n",
            "chex 0.1.86 requires numpy>=1.24.1, but you have numpy 1.23.1 which is incompatible.\n",
            "cudf-cu12 24.4.1 requires pandas<2.2.2dev0,>=2.0, but you have pandas 1.5.3 which is incompatible.\n",
            "google-colab 1.0.0 requires ipython==7.34.0, but you have ipython 8.12.3 which is incompatible.\n",
            "google-colab 1.0.0 requires pandas==2.0.3, but you have pandas 1.5.3 which is incompatible.\n",
            "jax 0.4.26 requires scipy>=1.9, but you have scipy 1.8.1 which is incompatible.\n",
            "jaxlib 0.4.26+cuda12.cudnn89 requires scipy>=1.9, but you have scipy 1.8.1 which is incompatible.\n",
            "pandas-stubs 2.0.3.230814 requires numpy>=1.25.0; python_version >= \"3.9\", but you have numpy 1.23.1 which is incompatible.\n",
            "pydantic 2.7.4 requires typing-extensions>=4.6.1, but you have typing-extensions 4.5.0 which is incompatible.\n",
            "pydantic-core 2.18.4 requires typing-extensions!=4.7.0,>=4.6.0, but you have typing-extensions 4.5.0 which is incompatible.\n",
            "tensorflow 2.15.0 requires numpy<2.0.0,>=1.23.5, but you have numpy 1.23.1 which is incompatible.\n",
            "tensorflow 2.15.0 requires protobuf!=4.21.0,!=4.21.1,!=4.21.2,!=4.21.3,!=4.21.4,!=4.21.5,<5.0.0dev,>=3.20.3, but you have protobuf 3.20.2 which is incompatible.\n",
            "tensorflow-metadata 1.15.0 requires protobuf<4.21,>=3.20.3; python_version < \"3.11\", but you have protobuf 3.20.2 which is incompatible.\n",
            "torchaudio 2.3.0+cu121 requires torch==2.3.0, but you have torch 1.13.1 which is incompatible.\n",
            "torchtext 0.18.0 requires torch>=2.3.0, but you have torch 1.13.1 which is incompatible.\u001b[0m\u001b[31m\n",
            "\u001b[0mSuccessfully installed Pillow-10.0.1 asttokens-2.4.1 executing-2.0.1 gdown-4.7.1 gitdb-4.0.11 gitpython-3.1.42 huggingface-hub-0.23.1 ipython-8.12.3 jedi-0.19.1 matplotlib-3.7.5 numpy-1.23.1 nvidia-cublas-cu11-11.10.3.66 nvidia-cuda-nvrtc-cu11-11.7.99 nvidia-cuda-runtime-cu11-11.7.99 nvidia-cudnn-cu11-8.5.0.96 onnx-1.14.1 opencv-python-4.8.1.78 packaging-23.2 pandas-1.5.3 prettytable-3.9.0 protobuf-3.20.2 pure-eval-0.2.2 pytest-7.4.2 qai_hub_models-0.8.0 schema-0.7.5 scipy-1.8.1 sentencepiece-0.2.0 smmap-5.0.1 stack-data-0.6.3 torch-1.13.1 torchvision-0.14.1 tqdm-4.66.2 transformers-4.41.1 typing-extensions-4.5.0 urllib3-1.26.18\n"
          ]
        },
        {
          "output_type": "display_data",
          "data": {
            "application/vnd.colab-display-data+json": {
              "pip_warning": {
                "packages": [
                  "IPython",
                  "PIL",
                  "google",
                  "matplotlib",
                  "mpl_toolkits",
                  "numpy"
                ]
              },
              "id": "1d9414c1d7bc497a9452cc40e9deb084"
            }
          },
          "metadata": {}
        }
      ]
    },
    {
      "cell_type": "code",
      "source": [
        "!huggingface-cli login"
      ],
      "metadata": {
        "colab": {
          "base_uri": "https://localhost:8080/"
        },
        "id": "-G7Bs3snKy5B",
        "outputId": "b9759f40-e8e5-42e0-c496-cf6557af2ea2"
      },
      "execution_count": 8,
      "outputs": [
        {
          "output_type": "stream",
          "name": "stdout",
          "text": [
            "\n",
            "    _|    _|  _|    _|    _|_|_|    _|_|_|  _|_|_|  _|      _|    _|_|_|      _|_|_|_|    _|_|      _|_|_|  _|_|_|_|\n",
            "    _|    _|  _|    _|  _|        _|          _|    _|_|    _|  _|            _|        _|    _|  _|        _|\n",
            "    _|_|_|_|  _|    _|  _|  _|_|  _|  _|_|    _|    _|  _|  _|  _|  _|_|      _|_|_|    _|_|_|_|  _|        _|_|_|\n",
            "    _|    _|  _|    _|  _|    _|  _|    _|    _|    _|    _|_|  _|    _|      _|        _|    _|  _|        _|\n",
            "    _|    _|    _|_|      _|_|_|    _|_|_|  _|_|_|  _|      _|    _|_|_|      _|        _|    _|    _|_|_|  _|_|_|_|\n",
            "\n",
            "    To login, `huggingface_hub` requires a token generated from https://huggingface.co/settings/tokens .\n",
            "Enter your token (input will not be visible): \n",
            "Add token as git credential? (Y/n) y\n",
            "Token is valid (permission: write).\n",
            "\u001b[1m\u001b[31mCannot authenticate through git-credential as no helper is defined on your machine.\n",
            "You might have to re-authenticate when pushing to the Hugging Face Hub.\n",
            "Run the following command in your terminal in case you want to set the 'store' credential helper as default.\n",
            "\n",
            "git config --global credential.helper store\n",
            "\n",
            "Read https://git-scm.com/book/en/v2/Git-Tools-Credential-Storage for more details.\u001b[0m\n",
            "Token has not been saved to git credential helper.\n",
            "Your token has been saved to /root/.cache/huggingface/token\n",
            "Login successful\n"
          ]
        }
      ]
    },
    {
      "cell_type": "code",
      "source": [
        "!python -m qai_hub_models.models.llama_v2_7b_chat_quantized.demo"
      ],
      "metadata": {
        "colab": {
          "base_uri": "https://localhost:8080/"
        },
        "id": "fKc7NOayrxVy",
        "outputId": "c07bc6fb-1851-4d18-811c-9c87da9dcdba"
      },
      "execution_count": 10,
      "outputs": [
        {
          "output_type": "stream",
          "name": "stdout",
          "text": [
            "+-------------------------------------------------------------------------------------------------------------------------------+\n",
            "| Recommended minimum memory of 40 GB memory (RAM + swap-space), found 12 GB.                                                   |\n",
            "| You might see process killed error due to OOM during export/demo.                                                             |\n",
            "|                                                                                                                               |\n",
            "| Please increase your swap-space temporarily as a work-around. It might slow down export but allow you to export successfully. |\n",
            "| You can refer to https://askubuntu.com/questions/178712/how-to-increase-swap-space for instructions                           |\n",
            "| or run following commands:                                                                                                    |\n",
            "|                                                                                                                               |\n",
            "| sudo swapoff -a                                                                                                               |\n",
            "| # bs=<amount of data that can be read/write>                                                                                  |\n",
            "| # count=number of <bs> to allocate for swapfile                                                                               |\n",
            "| # Total size = <bs> * count                                                                                                   |\n",
            "| #            = 1 MB * 40k = ~40GB                                                                                             |\n",
            "| sudo dd if=/dev/zero of=/local/mnt/swapfile bs=1M count=28k                                                                   |\n",
            "| # Set the correct permissions                                                                                                 |\n",
            "| sudo chmod 0600 /local/mnt/swapfile                                                                                           |\n",
            "|                                                                                                                               |\n",
            "| sudo mkswap /local/mnt/swapfile  # Set up a Linux swap area                                                                   |\n",
            "| sudo swapon /local/mnt/swapfile  # Turn the swap on                                                                           |\n",
            "|                                                                                                                               |\n",
            "| You can update `count` to increase swap space that works for machine.NOTE: above commands does not persist through reboot.    |\n",
            "+-------------------------------------------------------------------------------------------------------------------------------+\n",
            "Loading Llama2 PromptProcessor 1/4\n",
            "/usr/local/lib/python3.10/dist-packages/huggingface_hub/file_download.py:1132: FutureWarning: `resume_download` is deprecated and will be removed in version 1.0.0. Downloads always resume when possible. If you want to force a new download, use `force_download=True`.\n",
            "  warnings.warn(\n",
            "Loading model\n",
            "Loading checkpoint shards: 100% 2/2 [00:15<00:00,  7.77s/it]\n",
            "^C\n"
          ]
        }
      ]
    },
    {
      "cell_type": "code",
      "source": [
        "!python -m qai_hub_models.models.llama_v2_7b_chat_quantized.export"
      ],
      "metadata": {
        "colab": {
          "base_uri": "https://localhost:8080/"
        },
        "id": "k3G1wFRvumOy",
        "outputId": "91d73129-b30a-44d6-b23d-7d29841f4b85"
      },
      "execution_count": 11,
      "outputs": [
        {
          "output_type": "stream",
          "name": "stdout",
          "text": [
            "+-------------------------------------------------------------------------------------------------------------------------------+\n",
            "| Recommended minimum memory of 40 GB memory (RAM + swap-space), found 12 GB.                                                   |\n",
            "| You might see process killed error due to OOM during export/demo.                                                             |\n",
            "|                                                                                                                               |\n",
            "| Please increase your swap-space temporarily as a work-around. It might slow down export but allow you to export successfully. |\n",
            "| You can refer to https://askubuntu.com/questions/178712/how-to-increase-swap-space for instructions                           |\n",
            "| or run following commands:                                                                                                    |\n",
            "|                                                                                                                               |\n",
            "| sudo swapoff -a                                                                                                               |\n",
            "| # bs=<amount of data that can be read/write>                                                                                  |\n",
            "| # count=number of <bs> to allocate for swapfile                                                                               |\n",
            "| # Total size = <bs> * count                                                                                                   |\n",
            "| #            = 1 MB * 40k = ~40GB                                                                                             |\n",
            "| sudo dd if=/dev/zero of=/local/mnt/swapfile bs=1M count=28k                                                                   |\n",
            "| # Set the correct permissions                                                                                                 |\n",
            "| sudo chmod 0600 /local/mnt/swapfile                                                                                           |\n",
            "|                                                                                                                               |\n",
            "| sudo mkswap /local/mnt/swapfile  # Set up a Linux swap area                                                                   |\n",
            "| sudo swapon /local/mnt/swapfile  # Turn the swap on                                                                           |\n",
            "|                                                                                                                               |\n",
            "| You can update `count` to increase swap space that works for machine.NOTE: above commands does not persist through reboot.    |\n",
            "+-------------------------------------------------------------------------------------------------------------------------------+\n",
            "Loading Llama2 PromptProcessor 1/4\n",
            "Loading model\n",
            "Loading checkpoint shards: 100% 2/2 [00:15<00:00,  7.87s/it]\n",
            "^C\n"
          ]
        }
      ]
    },
    {
      "cell_type": "markdown",
      "source": [
        "### Controlnet"
      ],
      "metadata": {
        "id": "GwQU8sJtYpkV"
      }
    },
    {
      "cell_type": "code",
      "source": [
        "!pip install \"qai_hub_models[controlnet_quantized]\""
      ],
      "metadata": {
        "id": "fmKzQJj_v2IL",
        "colab": {
          "base_uri": "https://localhost:8080/"
        },
        "outputId": "b9535d4c-dcc2-4b3e-ca05-33b9af54c0b5"
      },
      "execution_count": null,
      "outputs": [
        {
          "output_type": "stream",
          "name": "stdout",
          "text": [
            "Requirement already satisfied: qai_hub_models[controlnet_quantized] in /usr/local/lib/python3.10/dist-packages (0.3.2)\n",
            "Requirement already satisfied: Pillow==10.0.1 in /usr/local/lib/python3.10/dist-packages (from qai_hub_models[controlnet_quantized]) (10.0.1)\n",
            "Requirement already satisfied: gdown==4.7.1 in /usr/local/lib/python3.10/dist-packages (from qai_hub_models[controlnet_quantized]) (4.7.1)\n",
            "Requirement already satisfied: gitpython in /usr/local/lib/python3.10/dist-packages (from qai_hub_models[controlnet_quantized]) (3.1.42)\n",
            "Requirement already satisfied: huggingface-hub in /usr/local/lib/python3.10/dist-packages (from qai_hub_models[controlnet_quantized]) (0.20.3)\n",
            "Requirement already satisfied: ipython in /usr/local/lib/python3.10/dist-packages (from qai_hub_models[controlnet_quantized]) (7.34.0)\n",
            "Requirement already satisfied: numpy==1.23.1 in /usr/local/lib/python3.10/dist-packages (from qai_hub_models[controlnet_quantized]) (1.23.1)\n",
            "Requirement already satisfied: opencv-python==4.8.1.78 in /usr/local/lib/python3.10/dist-packages (from qai_hub_models[controlnet_quantized]) (4.8.1.78)\n",
            "Requirement already satisfied: pandas in /usr/local/lib/python3.10/dist-packages (from qai_hub_models[controlnet_quantized]) (1.5.3)\n",
            "Requirement already satisfied: prettytable in /usr/local/lib/python3.10/dist-packages (from qai_hub_models[controlnet_quantized]) (3.10.0)\n",
            "Requirement already satisfied: pytest==7.4.2 in /usr/local/lib/python3.10/dist-packages (from qai_hub_models[controlnet_quantized]) (7.4.2)\n",
            "Requirement already satisfied: pyyaml in /usr/local/lib/python3.10/dist-packages (from qai_hub_models[controlnet_quantized]) (6.0.1)\n",
            "Requirement already satisfied: qai-hub>=0.9.0 in /usr/local/lib/python3.10/dist-packages (from qai_hub_models[controlnet_quantized]) (0.9.0)\n",
            "Requirement already satisfied: requests in /usr/local/lib/python3.10/dist-packages (from qai_hub_models[controlnet_quantized]) (2.31.0)\n",
            "Requirement already satisfied: requests-toolbelt in /usr/local/lib/python3.10/dist-packages (from qai_hub_models[controlnet_quantized]) (1.0.0)\n",
            "Requirement already satisfied: schema in /usr/local/lib/python3.10/dist-packages (from qai_hub_models[controlnet_quantized]) (0.7.5)\n",
            "Requirement already satisfied: tabulate in /usr/local/lib/python3.10/dist-packages (from qai_hub_models[controlnet_quantized]) (0.9.0)\n",
            "Requirement already satisfied: torch==1.13.1 in /usr/local/lib/python3.10/dist-packages (from qai_hub_models[controlnet_quantized]) (1.13.1)\n",
            "Requirement already satisfied: torchvision<=0.14.1 in /usr/local/lib/python3.10/dist-packages (from qai_hub_models[controlnet_quantized]) (0.14.1)\n",
            "Requirement already satisfied: urllib3<2 in /usr/local/lib/python3.10/dist-packages (from qai_hub_models[controlnet_quantized]) (1.26.18)\n",
            "Collecting transformers==4.31.0 (from qai_hub_models[controlnet_quantized])\n",
            "  Downloading transformers-4.31.0-py3-none-any.whl (7.4 MB)\n",
            "\u001b[2K     \u001b[90m━━━━━━━━━━━━━━━━━━━━━━━━━━━━━━━━━━━━━━━━\u001b[0m \u001b[32m7.4/7.4 MB\u001b[0m \u001b[31m19.4 MB/s\u001b[0m eta \u001b[36m0:00:00\u001b[0m\n",
            "\u001b[?25hCollecting diffusers[torch]==0.21.4 (from qai_hub_models[controlnet_quantized])\n",
            "  Downloading diffusers-0.21.4-py3-none-any.whl (1.5 MB)\n",
            "\u001b[2K     \u001b[90m━━━━━━━━━━━━━━━━━━━━━━━━━━━━━━━━━━━━━━━━\u001b[0m \u001b[32m1.5/1.5 MB\u001b[0m \u001b[31m60.6 MB/s\u001b[0m eta \u001b[36m0:00:00\u001b[0m\n",
            "\u001b[?25hRequirement already satisfied: filelock in /usr/local/lib/python3.10/dist-packages (from diffusers[torch]==0.21.4->qai_hub_models[controlnet_quantized]) (3.13.1)\n",
            "Requirement already satisfied: importlib-metadata in /usr/local/lib/python3.10/dist-packages (from diffusers[torch]==0.21.4->qai_hub_models[controlnet_quantized]) (7.0.1)\n",
            "Requirement already satisfied: regex!=2019.12.17 in /usr/local/lib/python3.10/dist-packages (from diffusers[torch]==0.21.4->qai_hub_models[controlnet_quantized]) (2023.10.3)\n",
            "Requirement already satisfied: safetensors>=0.3.1 in /usr/local/lib/python3.10/dist-packages (from diffusers[torch]==0.21.4->qai_hub_models[controlnet_quantized]) (0.4.2)\n",
            "Collecting accelerate>=0.11.0 (from diffusers[torch]==0.21.4->qai_hub_models[controlnet_quantized])\n",
            "  Downloading accelerate-0.27.2-py3-none-any.whl (279 kB)\n",
            "\u001b[2K     \u001b[90m━━━━━━━━━━━━━━━━━━━━━━━━━━━━━━━━━━━━━━━━\u001b[0m \u001b[32m280.0/280.0 kB\u001b[0m \u001b[31m19.7 MB/s\u001b[0m eta \u001b[36m0:00:00\u001b[0m\n",
            "\u001b[?25hRequirement already satisfied: six in /usr/local/lib/python3.10/dist-packages (from gdown==4.7.1->qai_hub_models[controlnet_quantized]) (1.16.0)\n",
            "Requirement already satisfied: tqdm in /usr/local/lib/python3.10/dist-packages (from gdown==4.7.1->qai_hub_models[controlnet_quantized]) (4.66.2)\n",
            "Requirement already satisfied: beautifulsoup4 in /usr/local/lib/python3.10/dist-packages (from gdown==4.7.1->qai_hub_models[controlnet_quantized]) (4.12.3)\n",
            "Requirement already satisfied: iniconfig in /usr/local/lib/python3.10/dist-packages (from pytest==7.4.2->qai_hub_models[controlnet_quantized]) (2.0.0)\n",
            "Requirement already satisfied: packaging in /usr/local/lib/python3.10/dist-packages (from pytest==7.4.2->qai_hub_models[controlnet_quantized]) (23.2)\n",
            "Requirement already satisfied: pluggy<2.0,>=0.12 in /usr/local/lib/python3.10/dist-packages (from pytest==7.4.2->qai_hub_models[controlnet_quantized]) (1.4.0)\n",
            "Requirement already satisfied: exceptiongroup>=1.0.0rc8 in /usr/local/lib/python3.10/dist-packages (from pytest==7.4.2->qai_hub_models[controlnet_quantized]) (1.2.0)\n",
            "Requirement already satisfied: tomli>=1.0.0 in /usr/local/lib/python3.10/dist-packages (from pytest==7.4.2->qai_hub_models[controlnet_quantized]) (2.0.1)\n",
            "Requirement already satisfied: typing-extensions in /usr/local/lib/python3.10/dist-packages (from torch==1.13.1->qai_hub_models[controlnet_quantized]) (4.10.0)\n",
            "Requirement already satisfied: nvidia-cuda-runtime-cu11==11.7.99 in /usr/local/lib/python3.10/dist-packages (from torch==1.13.1->qai_hub_models[controlnet_quantized]) (11.7.99)\n",
            "Requirement already satisfied: nvidia-cudnn-cu11==8.5.0.96 in /usr/local/lib/python3.10/dist-packages (from torch==1.13.1->qai_hub_models[controlnet_quantized]) (8.5.0.96)\n",
            "Requirement already satisfied: nvidia-cublas-cu11==11.10.3.66 in /usr/local/lib/python3.10/dist-packages (from torch==1.13.1->qai_hub_models[controlnet_quantized]) (11.10.3.66)\n",
            "Requirement already satisfied: nvidia-cuda-nvrtc-cu11==11.7.99 in /usr/local/lib/python3.10/dist-packages (from torch==1.13.1->qai_hub_models[controlnet_quantized]) (11.7.99)\n",
            "Collecting tokenizers!=0.11.3,<0.14,>=0.11.1 (from transformers==4.31.0->qai_hub_models[controlnet_quantized])\n",
            "  Downloading tokenizers-0.13.3-cp310-cp310-manylinux_2_17_x86_64.manylinux2014_x86_64.whl (7.8 MB)\n",
            "\u001b[2K     \u001b[90m━━━━━━━━━━━━━━━━━━━━━━━━━━━━━━━━━━━━━━━━\u001b[0m \u001b[32m7.8/7.8 MB\u001b[0m \u001b[31m33.5 MB/s\u001b[0m eta \u001b[36m0:00:00\u001b[0m\n",
            "\u001b[?25hRequirement already satisfied: setuptools in /usr/local/lib/python3.10/dist-packages (from nvidia-cublas-cu11==11.10.3.66->torch==1.13.1->qai_hub_models[controlnet_quantized]) (67.7.2)\n",
            "Requirement already satisfied: wheel in /usr/local/lib/python3.10/dist-packages (from nvidia-cublas-cu11==11.10.3.66->torch==1.13.1->qai_hub_models[controlnet_quantized]) (0.42.0)\n",
            "Requirement already satisfied: fsspec>=2023.5.0 in /usr/local/lib/python3.10/dist-packages (from huggingface-hub->qai_hub_models[controlnet_quantized]) (2023.6.0)\n",
            "Requirement already satisfied: deprecation in /usr/local/lib/python3.10/dist-packages (from qai-hub>=0.9.0->qai_hub_models[controlnet_quantized]) (2.1.0)\n",
            "Requirement already satisfied: protobuf<4,>=3.15 in /usr/local/lib/python3.10/dist-packages (from qai-hub>=0.9.0->qai_hub_models[controlnet_quantized]) (3.20.3)\n",
            "Requirement already satisfied: h5py<4,>=3.6.0 in /usr/local/lib/python3.10/dist-packages (from qai-hub>=0.9.0->qai_hub_models[controlnet_quantized]) (3.9.0)\n",
            "Requirement already satisfied: wcwidth in /usr/local/lib/python3.10/dist-packages (from prettytable->qai_hub_models[controlnet_quantized]) (0.2.13)\n",
            "Requirement already satisfied: gitdb<5,>=4.0.1 in /usr/local/lib/python3.10/dist-packages (from gitpython->qai_hub_models[controlnet_quantized]) (4.0.11)\n",
            "Requirement already satisfied: jedi>=0.16 in /usr/local/lib/python3.10/dist-packages (from ipython->qai_hub_models[controlnet_quantized]) (0.19.1)\n",
            "Requirement already satisfied: decorator in /usr/local/lib/python3.10/dist-packages (from ipython->qai_hub_models[controlnet_quantized]) (4.4.2)\n",
            "Requirement already satisfied: pickleshare in /usr/local/lib/python3.10/dist-packages (from ipython->qai_hub_models[controlnet_quantized]) (0.7.5)\n",
            "Requirement already satisfied: traitlets>=4.2 in /usr/local/lib/python3.10/dist-packages (from ipython->qai_hub_models[controlnet_quantized]) (5.7.1)\n",
            "Requirement already satisfied: prompt-toolkit!=3.0.0,!=3.0.1,<3.1.0,>=2.0.0 in /usr/local/lib/python3.10/dist-packages (from ipython->qai_hub_models[controlnet_quantized]) (3.0.43)\n",
            "Requirement already satisfied: pygments in /usr/local/lib/python3.10/dist-packages (from ipython->qai_hub_models[controlnet_quantized]) (2.16.1)\n",
            "Requirement already satisfied: backcall in /usr/local/lib/python3.10/dist-packages (from ipython->qai_hub_models[controlnet_quantized]) (0.2.0)\n",
            "Requirement already satisfied: matplotlib-inline in /usr/local/lib/python3.10/dist-packages (from ipython->qai_hub_models[controlnet_quantized]) (0.1.6)\n",
            "Requirement already satisfied: pexpect>4.3 in /usr/local/lib/python3.10/dist-packages (from ipython->qai_hub_models[controlnet_quantized]) (4.9.0)\n",
            "Requirement already satisfied: python-dateutil>=2.8.1 in /usr/local/lib/python3.10/dist-packages (from pandas->qai_hub_models[controlnet_quantized]) (2.8.2)\n",
            "Requirement already satisfied: pytz>=2020.1 in /usr/local/lib/python3.10/dist-packages (from pandas->qai_hub_models[controlnet_quantized]) (2023.4)\n",
            "Requirement already satisfied: charset-normalizer<4,>=2 in /usr/local/lib/python3.10/dist-packages (from requests->qai_hub_models[controlnet_quantized]) (3.3.2)\n",
            "Requirement already satisfied: idna<4,>=2.5 in /usr/local/lib/python3.10/dist-packages (from requests->qai_hub_models[controlnet_quantized]) (3.6)\n",
            "Requirement already satisfied: certifi>=2017.4.17 in /usr/local/lib/python3.10/dist-packages (from requests->qai_hub_models[controlnet_quantized]) (2024.2.2)\n",
            "Requirement already satisfied: contextlib2>=0.5.5 in /usr/local/lib/python3.10/dist-packages (from schema->qai_hub_models[controlnet_quantized]) (21.6.0)\n",
            "Requirement already satisfied: psutil in /usr/local/lib/python3.10/dist-packages (from accelerate>=0.11.0->diffusers[torch]==0.21.4->qai_hub_models[controlnet_quantized]) (5.9.5)\n",
            "Requirement already satisfied: smmap<6,>=3.0.1 in /usr/local/lib/python3.10/dist-packages (from gitdb<5,>=4.0.1->gitpython->qai_hub_models[controlnet_quantized]) (5.0.1)\n",
            "Requirement already satisfied: parso<0.9.0,>=0.8.3 in /usr/local/lib/python3.10/dist-packages (from jedi>=0.16->ipython->qai_hub_models[controlnet_quantized]) (0.8.3)\n",
            "Requirement already satisfied: ptyprocess>=0.5 in /usr/local/lib/python3.10/dist-packages (from pexpect>4.3->ipython->qai_hub_models[controlnet_quantized]) (0.7.0)\n",
            "Requirement already satisfied: soupsieve>1.2 in /usr/local/lib/python3.10/dist-packages (from beautifulsoup4->gdown==4.7.1->qai_hub_models[controlnet_quantized]) (2.5)\n",
            "Requirement already satisfied: zipp>=0.5 in /usr/local/lib/python3.10/dist-packages (from importlib-metadata->diffusers[torch]==0.21.4->qai_hub_models[controlnet_quantized]) (3.17.0)\n",
            "Requirement already satisfied: PySocks!=1.5.7,>=1.5.6 in /usr/local/lib/python3.10/dist-packages (from requests->qai_hub_models[controlnet_quantized]) (1.7.1)\n",
            "Installing collected packages: tokenizers, transformers, diffusers, accelerate\n",
            "  Attempting uninstall: tokenizers\n",
            "    Found existing installation: tokenizers 0.15.2\n",
            "    Uninstalling tokenizers-0.15.2:\n",
            "      Successfully uninstalled tokenizers-0.15.2\n",
            "  Attempting uninstall: transformers\n",
            "    Found existing installation: transformers 4.38.2\n",
            "    Uninstalling transformers-4.38.2:\n",
            "      Successfully uninstalled transformers-4.38.2\n",
            "Successfully installed accelerate-0.27.2 diffusers-0.21.4 tokenizers-0.13.3 transformers-4.31.0\n"
          ]
        }
      ]
    },
    {
      "cell_type": "code",
      "source": [
        "!python -m qai_hub_models.models.controlnet_quantized.demo"
      ],
      "metadata": {
        "colab": {
          "base_uri": "https://localhost:8080/"
        },
        "id": "GyDQDjN0YtT9",
        "outputId": "5fee9458-172e-4756-cf94-c856355c5106"
      },
      "execution_count": null,
      "outputs": [
        {
          "output_type": "stream",
          "name": "stdout",
          "text": [
            "The cache for model files in Transformers v4.22.0 has been updated. Migrating your old cache. This is a one-time only operation. You can interrupt this and resume the migration later on by calling `transformers.utils.move_cache()`.\n",
            "\r0it [00:00, ?it/s]\r0it [00:00, ?it/s]\n",
            "Downloading data at https://qaihub-public-assets.s3.us-west-2.amazonaws.com/qai-hub-models/models/controlnet_quantized/v1/test_images/test_bird_image.png to /root/.qaihm/models/controlnet_quantized/v1/test_images/test_bird_image.png... Done\n",
            "\n",
            "----------------------------------------------------------------------------------------------------\n",
            "** Performing image generation on-device(Samsung Galaxy S23) with ControlNet - Stable Diffusion **\n",
            "\n",
            "Prompt: a white bird on a colorful window\n",
            "Image: /root/.qaihm/models/controlnet_quantized/v1/test_images/test_bird_image.png\n",
            "Number of steps: 2\n",
            "Guidance scale: 7.5\n",
            "Seed: 0\n",
            "\n",
            "Note: This reference demo uses significant amounts of memory and may take 5-10 minutes to run ** per step **.\n",
            "----------------------------------------------------------------------------------------------------\n",
            "\n",
            "Downloading model assets\n",
            "-----------------------------------\n",
            "Downloading data at https://qaihub-public-assets.s3.us-west-2.amazonaws.com/qai-hub-models/models/controlnet_quantized/v1/QNN219/text_encoder.serialized.bin to /root/.qaihm/models/controlnet_quantized/v1/QNN219/text_encoder.serialized.bin... Done\n",
            "Downloading data at https://qaihub-public-assets.s3.us-west-2.amazonaws.com/qai-hub-models/models/controlnet_quantized/v1/QNN219/unet.serialized.bin to /root/.qaihm/models/controlnet_quantized/v1/QNN219/unet.serialized.bin... Done\n",
            "Downloading data at https://qaihub-public-assets.s3.us-west-2.amazonaws.com/qai-hub-models/models/controlnet_quantized/v1/QNN219/vae_decoder.serialized.bin to /root/.qaihm/models/controlnet_quantized/v1/QNN219/vae_decoder.serialized.bin... Done\n",
            "Downloading data at https://qaihub-public-assets.s3.us-west-2.amazonaws.com/qai-hub-models/models/controlnet_quantized/v1/QNN219/controlnet.serialized.bin to /root/.qaihm/models/controlnet_quantized/v1/QNN219/controlnet.serialized.bin... Done\n",
            "Uploading model assets on QAI-Hub\n",
            "-----------------------------------\n",
            "Uploading model: 100% 155M/155M [00:02<00:00, 56.3MB/s]\n",
            "Uploading model: 100% 840M/840M [00:13<00:00, 63.9MB/s]\n",
            "Uploading model: 100% 69.4M/69.4M [00:01<00:00, 44.9MB/s]\n",
            "Uploading model: 100% 352M/352M [00:05<00:00, 63.1MB/s]\n",
            "tokenizer/vocab.json: 100% 1.06M/1.06M [00:00<00:00, 10.3MB/s]\n",
            "tokenizer/merges.txt: 100% 525k/525k [00:00<00:00, 51.1MB/s]\n",
            "tokenizer/special_tokens_map.json: 100% 460/460 [00:00<00:00, 2.45MB/s]\n",
            "tokenizer/tokenizer_config.json: 100% 807/807 [00:00<00:00, 3.27MB/s]\n",
            "unet/config.json: 100% 743/743 [00:00<00:00, 3.29MB/s]\n",
            "diffusion_pytorch_model.safetensors: 100% 3.44G/3.44G [00:33<00:00, 103MB/s]\n",
            "\n",
            "Extracting embeddings (inference on TextEncoder)\n",
            "--------------------------------------------------\n",
            "Uploading dataset: 100% 15.0k/15.0k [00:00<00:00, 52.2kB/s]\n",
            "Scheduled inference job (j1p88vqp9) successfully. To see the status and results:\n",
            "    https://app.aihub.qualcomm.com/jobs/j1p88vqp9/\n",
            "\n",
            "Waiting for inference job (j1p88vqp9) completion. Type Ctrl+C to stop waiting at any time.\n",
            "    ✅ SUCCESS                          \u0007\n",
            "dataset-dp704dd25.h5: 100% 346k/346k [00:00<00:00, 2.06MB/s]\n",
            "\n",
            "Step: 1\n",
            "----------\n",
            "\n",
            "Denoising image in latent space (inference on ControlNet)\n",
            "------------------------------------------------------------\n",
            "Uploading dataset: 100% 663k/663k [00:00<00:00, 1.34MB/s]\n",
            "Scheduled inference job (jogkdmvpd) successfully. To see the status and results:\n",
            "    https://app.aihub.qualcomm.com/jobs/jogkdmvpd/\n",
            "\n",
            "Waiting for inference job (jogkdmvpd) completion. Type Ctrl+C to stop waiting at any time.\n",
            "    ✅ SUCCESS                          \u0007\n",
            "dataset-do7m45m71.h5: 100% 43.2M/43.2M [00:01<00:00, 37.4MB/s]\n",
            "\n",
            "Denoising image in latent space (inference on UNet)\n",
            "--------------------------------------------------\n",
            "Uploading dataset: 100% 43.7M/43.7M [00:01<00:00, 38.3MB/s]\n",
            "Scheduled inference job (jn5qwoe57) successfully. To see the status and results:\n",
            "    https://app.aihub.qualcomm.com/jobs/jn5qwoe57/\n",
            "\n",
            "Waiting for inference job (jn5qwoe57) completion. Type Ctrl+C to stop waiting at any time.\n",
            "    ✅ SUCCESS                          \u0007\n",
            "dataset-dv91kxn7l.h5: 100% 132k/132k [00:00<00:00, 1.61MB/s]\n",
            "\n",
            "Step: 2\n",
            "----------\n",
            "\n",
            "Denoising image in latent space (inference on ControlNet)\n",
            "------------------------------------------------------------\n",
            "Uploading dataset: 100% 663k/663k [00:00<00:00, 1.35MB/s]\n",
            "Scheduled inference job (j1gl7r25v) successfully. To see the status and results:\n",
            "    https://app.aihub.qualcomm.com/jobs/j1gl7r25v/\n",
            "\n",
            "Waiting for inference job (j1gl7r25v) completion. Type Ctrl+C to stop waiting at any time.\n",
            "    ✅ SUCCESS                          \u0007\n",
            "dataset-dr9wljw76.h5: 100% 42.9M/42.9M [00:01<00:00, 38.4MB/s]\n",
            "\n",
            "Denoising image in latent space (inference on UNet)\n",
            "--------------------------------------------------\n",
            "Uploading dataset: 100% 43.4M/43.4M [00:01<00:00, 38.7MB/s]\n",
            "Scheduled inference job (jw56vlnpo) successfully. To see the status and results:\n",
            "    https://app.aihub.qualcomm.com/jobs/jw56vlnpo/\n",
            "\n",
            "Waiting for inference job (jw56vlnpo) completion. Type Ctrl+C to stop waiting at any time.\n",
            "    ✅ SUCCESS                          \u0007\n",
            "dataset-dk7g3jy98.h5: 100% 132k/132k [00:00<00:00, 1.68MB/s]\n",
            "\n",
            "Decoding generated image (inference on VAEDecoder)\n",
            "--------------------------------------------------\n",
            "Uploading dataset: 100% 72.2k/72.2k [00:00<00:00, 254kB/s]\n",
            "Scheduled inference job (j1p382m52) successfully. To see the status and results:\n",
            "    https://app.aihub.qualcomm.com/jobs/j1p382m52/\n",
            "\n",
            "Waiting for inference job (j1p382m52) completion. Type Ctrl+C to stop waiting at any time.\n",
            "    ✅ SUCCESS                          \u0007\n",
            "dataset-dw268rz7g.h5: 100% 1.87M/1.87M [00:00<00:00, 6.58MB/s]\n",
            "Displaying image\n",
            "/usr/bin/xdg-open: 882: www-browser: not found\n",
            "/usr/bin/xdg-open: 882: links2: not found\n",
            "/usr/bin/xdg-open: 882: elinks: not found\n",
            "/usr/bin/xdg-open: 882: links: not found\n",
            "/usr/bin/xdg-open: 882: lynx: not found\n",
            "/usr/bin/xdg-open: 882: w3m: not found\n",
            "xdg-open: no method available for opening '/tmp/tmp7tg14558.PNG'\n"
          ]
        }
      ]
    },
    {
      "cell_type": "markdown",
      "source": [
        "### Custom Model Profiling in AI HUB"
      ],
      "metadata": {
        "id": "yMFKAuzAPHi5"
      }
    },
    {
      "cell_type": "code",
      "source": [
        "import torch\n",
        "from transformers import AutoModelForCausalLM, AutoTokenizer\n",
        "\n",
        "model = AutoModelForCausalLM.from_pretrained(\"microsoft/phi-2\", torch_dtype=\"auto\", trust_remote_code=True)\n",
        "tokenizer = AutoTokenizer.from_pretrained(\"microsoft/phi-2\", trust_remote_code=True)\n",
        "\n",
        "inputs = tokenizer('''def print_prime(n):\n",
        "   \"\"\"\n",
        "   Print all primes between 1 and n\n",
        "   \"\"\"''', return_tensors=\"pt\", return_attention_mask=False)\n",
        "\n",
        "outputs = model.generate(**inputs, max_length=200)\n",
        "text = tokenizer.batch_decode(outputs)[0]\n",
        "print(text)"
      ],
      "metadata": {
        "colab": {
          "base_uri": "https://localhost:8080/",
          "height": 49,
          "referenced_widgets": [
            "26c2dbea91994d0baed0fe09eb272c3f",
            "7036cab7cc2a4134a3f68e095d1e7dc3",
            "ee37763bf22244aaaa8dacd57f117fdf",
            "264a14ee43d84847910dad43e8fdc91b",
            "57a45627434c4e93857e16b909909db9",
            "5924a220b2ff45f993454dc9faa524c3",
            "10567f9d753e4ceabea445fbdf03b079",
            "917eb2219eec4c2cbae5e04dd51cde23",
            "d0d17351eb57401d850fcc949a7c5935",
            "2019c5f1f44842b9a7c68060a897329c",
            "3857171d00de49d193a18f1b82ff7ee3"
          ]
        },
        "id": "eCWsK-QAPi2_",
        "outputId": "d2827f48-f68d-4c27-b3aa-52d793f9a98d"
      },
      "execution_count": null,
      "outputs": [
        {
          "output_type": "display_data",
          "data": {
            "text/plain": [
              "Loading checkpoint shards:   0%|          | 0/2 [00:00<?, ?it/s]"
            ],
            "application/vnd.jupyter.widget-view+json": {
              "version_major": 2,
              "version_minor": 0,
              "model_id": "26c2dbea91994d0baed0fe09eb272c3f"
            }
          },
          "metadata": {}
        }
      ]
    },
    {
      "cell_type": "code",
      "source": [
        "from typing import Tuple\n",
        "import torch\n",
        "import qai_hub as hub\n",
        "from qai_hub_models.models.yolov7 import Model as YOLOv7Model\n",
        "\n",
        "# Load YOLOv7 in PyTorch\n",
        "torch_model = YOLOv7Model.from_pretrained()\n",
        "torch_model.eval()\n",
        "\n",
        "# Trace the PyTorch model using one data point of provided sample inputs to\n",
        "# torch tensor to trace the model.\n",
        "example_input = [torch.tensor(data[0]) for name, data in torch_model.sample_inputs().items()]\n",
        "pt_model = torch.jit.trace(torch_model, example_input)\n",
        "\n",
        "# Select a device\n",
        "device = hub.Device(\"Samsung Galaxy S23\")\n",
        "\n",
        "# Compile model for a specific device\n",
        "compile_job = hub.submit_compile_job(\n",
        "    model=pt_model,\n",
        "    device=device,\n",
        "    input_specs=torch_model.get_input_spec(),\n",
        ")\n",
        "\n",
        "# Get target model to run on a cloud hosted device\n",
        "target_model = compile_job.get_target_model()\n",
        "\n",
        "# Profile the previously compiled model on a cloud hosted device\n",
        "profile_job = hub.submit_profile_job(\n",
        "    model=target_model,\n",
        "    device=device,\n",
        ")\n",
        "\n",
        "# Perform on-device inference on a cloud hosted device\n",
        "input_data = torch_model.sample_inputs()\n",
        "inference_job = hub.submit_inference_job(\n",
        "    model=target_model,\n",
        "    device=device,\n",
        "    inputs=input_data,\n",
        ")\n",
        "\n",
        "# Returns the output as dict{name: numpy}\n",
        "on_device_output = inference_job.download_output_data()"
      ],
      "metadata": {
        "id": "fkAJrzgqY61U"
      },
      "execution_count": null,
      "outputs": []
    }
  ]
}